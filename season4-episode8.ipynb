{
 "cells": [
  {
   "cell_type": "code",
   "execution_count": 1,
   "id": "794f4e67",
   "metadata": {
    "_cell_guid": "b1076dfc-b9ad-4769-8c92-a6c4dae69d19",
    "_uuid": "8f2839f25d086af736a60e9eeb907d3b93b6e0e5",
    "execution": {
     "iopub.execute_input": "2024-08-26T18:24:56.193542Z",
     "iopub.status.busy": "2024-08-26T18:24:56.193155Z",
     "iopub.status.idle": "2024-08-26T18:24:57.048737Z",
     "shell.execute_reply": "2024-08-26T18:24:57.047831Z"
    },
    "papermill": {
     "duration": 0.872282,
     "end_time": "2024-08-26T18:24:57.051129",
     "exception": false,
     "start_time": "2024-08-26T18:24:56.178847",
     "status": "completed"
    },
    "tags": []
   },
   "outputs": [],
   "source": [
    "import pandas as pd\n",
    "import numpy as np"
   ]
  },
  {
   "cell_type": "code",
   "execution_count": 2,
   "id": "8311628f",
   "metadata": {
    "execution": {
     "iopub.execute_input": "2024-08-26T18:24:57.078358Z",
     "iopub.status.busy": "2024-08-26T18:24:57.077845Z",
     "iopub.status.idle": "2024-08-26T18:25:13.419833Z",
     "shell.execute_reply": "2024-08-26T18:25:13.418863Z"
    },
    "papermill": {
     "duration": 16.358476,
     "end_time": "2024-08-26T18:25:13.422452",
     "exception": false,
     "start_time": "2024-08-26T18:24:57.063976",
     "status": "completed"
    },
    "tags": []
   },
   "outputs": [],
   "source": [
    "df= pd.read_csv('/kaggle/input/playground-series-s4e8/train.csv')\n",
    "df_test=pd.read_csv('/kaggle/input/playground-series-s4e8/test.csv')\n",
    "df_sample =pd.read_csv('/kaggle/input/playground-series-s4e8/sample_submission.csv')"
   ]
  },
  {
   "cell_type": "code",
   "execution_count": 3,
   "id": "df92b5af",
   "metadata": {
    "collapsed": true,
    "execution": {
     "iopub.execute_input": "2024-08-26T18:25:13.450253Z",
     "iopub.status.busy": "2024-08-26T18:25:13.449827Z",
     "iopub.status.idle": "2024-08-26T18:25:30.929112Z",
     "shell.execute_reply": "2024-08-26T18:25:30.927704Z"
    },
    "jupyter": {
     "outputs_hidden": true
    },
    "papermill": {
     "duration": 17.495963,
     "end_time": "2024-08-26T18:25:30.931449",
     "exception": false,
     "start_time": "2024-08-26T18:25:13.435486",
     "status": "completed"
    },
    "tags": []
   },
   "outputs": [
    {
     "name": "stdout",
     "output_type": "stream",
     "text": [
      "Extra_columns_in_df ['class']\n",
      "\n",
      "\n",
      "object     18\n",
      "float64     3\n",
      "int64       1\n",
      "Name: count, dtype: int64\n",
      "\n",
      "object     17\n",
      "float64     3\n",
      "int64       1\n",
      "Name: count, dtype: int64\n",
      "\n",
      "\n",
      "We have to predict the: Index(['id', 'class'], dtype='object')\n",
      "\n",
      "\n",
      "NUll values in the df:\n",
      "id                            0\n",
      "class                         0\n",
      "cap-diameter                  4\n",
      "cap-shape                    40\n",
      "cap-surface              671023\n",
      "cap-color                    12\n",
      "does-bruise-or-bleed          8\n",
      "gill-attachment          523936\n",
      "gill-spacing            1258435\n",
      "gill-color                   57\n",
      "stem-height                   0\n",
      "stem-width                    0\n",
      "stem-root               2757023\n",
      "stem-surface            1980861\n",
      "stem-color                   38\n",
      "veil-type               2957493\n",
      "veil-color              2740947\n",
      "has-ring                     24\n",
      "ring-type                128880\n",
      "spore-print-color       2849682\n",
      "habitat                      45\n",
      "season                        0\n",
      "dtype: int64\n",
      "\n",
      "Null values in the df_test:\n",
      "id                            0\n",
      "cap-diameter                  7\n",
      "cap-shape                    31\n",
      "cap-surface              446904\n",
      "cap-color                    13\n",
      "does-bruise-or-bleed         10\n",
      "gill-attachment          349821\n",
      "gill-spacing             839595\n",
      "gill-color                   49\n",
      "stem-height                   1\n",
      "stem-width                    0\n",
      "stem-root               1838012\n",
      "stem-surface            1321488\n",
      "stem-color                   21\n",
      "veil-type               1971545\n",
      "veil-color              1826124\n",
      "has-ring                     19\n",
      "ring-type                 86195\n",
      "spore-print-color       1899617\n",
      "habitat                      25\n",
      "season                        0\n",
      "dtype: int64\n"
     ]
    }
   ],
   "source": [
    "                                '''SOMETHING UNIVERSAL CODE MADNESS (USING PANDAS) For every competetion'''\n",
    "import pandas as pd    \n",
    "        \n",
    "def check_columns(df, df_test):\n",
    "    extra_columns_df = [col for col in df.columns if col not in df_test.columns]\n",
    "    extra_columns_df_test = [col for col in df_test.columns if col not in df.columns]\n",
    "    if extra_columns_df or extra_columns_df_test:\n",
    "        print(\"Extra_columns_in_df\",extra_columns_df)\n",
    "        '''print(extra_columns_df_test)'''\n",
    "    else:\n",
    "        return None\n",
    "\n",
    "\n",
    "def check_columns_dtype(df,df_test):\n",
    "    print(df.dtypes.value_counts())\n",
    "    print()\n",
    "    print(df_test.dtypes.value_counts())\n",
    "    print()\n",
    "\n",
    "\n",
    "def to_predict(df_sample):\n",
    "    print(\"We have to predict the:\",df_sample.columns)\n",
    "    \n",
    "    \n",
    "    \n",
    "def check_null_values(df,df_test):\n",
    "    print(\"NUll values in the df:\"), print(df.isnull().sum()),print()\n",
    "    print(\"Null values in the df_test:\"),print(df_test.isnull().sum())\n",
    "    \n",
    "\n",
    "                                         \n",
    "'''MAIN CDOE'''        \n",
    "\n",
    "df= pd.read_csv('/kaggle/input/playground-series-s4e8/train.csv')\n",
    "df_test=pd.read_csv('/kaggle/input/playground-series-s4e8/test.csv')\n",
    "df_sample =pd.read_csv('/kaggle/input/playground-series-s4e8/sample_submission.csv')\n",
    "\n",
    "check_columns(df, df_test), print(),print()\n",
    "\n",
    "check_columns_dtype(df,df_test),print()\n",
    "\n",
    "to_predict(df_sample), print(), print()\n",
    "\n",
    "check_null_values(df,df_test)\n",
    "    \n"
   ]
  },
  {
   "cell_type": "code",
   "execution_count": 4,
   "id": "ff93d7e5",
   "metadata": {
    "execution": {
     "iopub.execute_input": "2024-08-26T18:25:30.960178Z",
     "iopub.status.busy": "2024-08-26T18:25:30.959516Z",
     "iopub.status.idle": "2024-08-26T18:25:30.966268Z",
     "shell.execute_reply": "2024-08-26T18:25:30.965192Z"
    },
    "papermill": {
     "duration": 0.024446,
     "end_time": "2024-08-26T18:25:30.968955",
     "exception": false,
     "start_time": "2024-08-26T18:25:30.944509",
     "status": "completed"
    },
    "tags": []
   },
   "outputs": [
    {
     "name": "stdout",
     "output_type": "stream",
     "text": [
      "id:int64\n",
      "class:object\n",
      "cap-diameter:float64\n",
      "cap-shape:object\n",
      "cap-surface:object\n",
      "cap-color:object\n",
      "does-bruise-or-bleed:object\n",
      "gill-attachment:object\n",
      "gill-spacing:object\n",
      "gill-color:object\n",
      "stem-height:float64\n",
      "stem-width:float64\n",
      "stem-root:object\n",
      "stem-surface:object\n",
      "stem-color:object\n",
      "veil-type:object\n",
      "veil-color:object\n",
      "has-ring:object\n",
      "ring-type:object\n",
      "spore-print-color:object\n",
      "habitat:object\n",
      "season:object\n"
     ]
    }
   ],
   "source": [
    "for column in df.columns:\n",
    "    print(f\"{column}:{df[column].dtype}\")"
   ]
  },
  {
   "cell_type": "code",
   "execution_count": 5,
   "id": "28ea3e37",
   "metadata": {
    "execution": {
     "iopub.execute_input": "2024-08-26T18:25:30.997158Z",
     "iopub.status.busy": "2024-08-26T18:25:30.996784Z",
     "iopub.status.idle": "2024-08-26T18:25:31.001788Z",
     "shell.execute_reply": "2024-08-26T18:25:31.000747Z"
    },
    "papermill": {
     "duration": 0.021527,
     "end_time": "2024-08-26T18:25:31.004049",
     "exception": false,
     "start_time": "2024-08-26T18:25:30.982522",
     "status": "completed"
    },
    "tags": []
   },
   "outputs": [],
   "source": [
    "# for skewnesss\n",
    "# import matplotlib.pyplot as plt\n",
    "# import seaborn as sns\n",
    "# def plot_skewness(df, column):\n",
    "#     plt.figure(figsize=(3, 3))\n",
    "#     sns.histplot(df[column], kde=True)\n",
    "#     plt.title(f\"Histogram and Density Plot of '{column}'\")\n",
    "#     plt.xlabel(column)\n",
    "#     plt.ylabel('Frequency')\n",
    "#     plt.show()\n",
    "\n",
    "# # Example usage:\n",
    "# columns= ['cap-diameter', 'cap-shape','cap-color',\n",
    "#        'does-bruise-or-bleed', 'gill-color',\n",
    "#        'stem-height', 'stem-width', 'stem-color',\n",
    "#         'has-ring', 'spore-print-color',\n",
    "#        'habitat', 'season']\n",
    "# for column in columns:\n",
    "#     plot_skewness(df,column)\n",
    "\n",
    "# plot_skewness(df, 'Column2')"
   ]
  },
  {
   "cell_type": "markdown",
   "id": "96ed5a53",
   "metadata": {
    "papermill": {
     "duration": 0.012779,
     "end_time": "2024-08-26T18:25:31.030039",
     "exception": false,
     "start_time": "2024-08-26T18:25:31.017260",
     "status": "completed"
    },
    "tags": []
   },
   "source": [
    "**Skewness**"
   ]
  },
  {
   "cell_type": "code",
   "execution_count": 6,
   "id": "668c3edc",
   "metadata": {
    "execution": {
     "iopub.execute_input": "2024-08-26T18:25:31.058402Z",
     "iopub.status.busy": "2024-08-26T18:25:31.057491Z",
     "iopub.status.idle": "2024-08-26T18:25:31.062034Z",
     "shell.execute_reply": "2024-08-26T18:25:31.061059Z"
    },
    "papermill": {
     "duration": 0.020835,
     "end_time": "2024-08-26T18:25:31.064087",
     "exception": false,
     "start_time": "2024-08-26T18:25:31.043252",
     "status": "completed"
    },
    "tags": []
   },
   "outputs": [],
   "source": [
    "# for train data\n",
    "# columns= ['cap-diameter', 'cap-shape','cap-color',\n",
    "#        'does-bruise-or-bleed', 'gill-color',\n",
    "#        'stem-height', 'stem-width', 'stem-color',\n",
    "#         'has-ring', 'spore-print-color',\n",
    "#        'habitat', 'season','cap-surface','gill-attachment', 'ring-type']\n",
    "# for column in columns:\n",
    "#     if df[column].dtype == 'object':\n",
    "#         mode_value = df[column].mode()[0]\n",
    "#         df[column].fillna(mode_value, inplace=True)\n",
    "#     else:\n",
    "#         median_value = df[column].median()\n",
    "#         df[column].fillna(median_value,inplace=True)"
   ]
  },
  {
   "cell_type": "markdown",
   "id": "14db3d74",
   "metadata": {
    "papermill": {
     "duration": 0.012799,
     "end_time": "2024-08-26T18:25:31.089921",
     "exception": false,
     "start_time": "2024-08-26T18:25:31.077122",
     "status": "completed"
    },
    "tags": []
   },
   "source": [
    "**skewness test**"
   ]
  },
  {
   "cell_type": "code",
   "execution_count": 7,
   "id": "c377cd5b",
   "metadata": {
    "execution": {
     "iopub.execute_input": "2024-08-26T18:25:31.117681Z",
     "iopub.status.busy": "2024-08-26T18:25:31.117329Z",
     "iopub.status.idle": "2024-08-26T18:25:31.122088Z",
     "shell.execute_reply": "2024-08-26T18:25:31.120994Z"
    },
    "papermill": {
     "duration": 0.021211,
     "end_time": "2024-08-26T18:25:31.124234",
     "exception": false,
     "start_time": "2024-08-26T18:25:31.103023",
     "status": "completed"
    },
    "tags": []
   },
   "outputs": [],
   "source": [
    "# # for test data\n",
    "# columns= ['cap-diameter', 'cap-shape','cap-color',\n",
    "#        'does-bruise-or-bleed', 'gill-color',\n",
    "#        'stem-height', 'stem-width', 'stem-color',\n",
    "#         'has-ring', 'spore-print-color',\n",
    "#        'habitat', 'season']\n",
    "# for column in columns:\n",
    "#     if df_test[column].dtype == 'object':\n",
    "#         mode_value = df_test[column].mode()[0]\n",
    "#         df_test[column].fillna(mode_value, inplace=True)\n",
    "#     else:\n",
    "#         median_value = df_test[column].median()\n",
    "#         df_test[column].fillna(median_value,inplace=True)"
   ]
  },
  {
   "cell_type": "markdown",
   "id": "31fcda2b",
   "metadata": {
    "papermill": {
     "duration": 0.01267,
     "end_time": "2024-08-26T18:25:31.149999",
     "exception": false,
     "start_time": "2024-08-26T18:25:31.137329",
     "status": "completed"
    },
    "tags": []
   },
   "source": [
    "**train(df)**"
   ]
  },
  {
   "cell_type": "code",
   "execution_count": 8,
   "id": "ed91fffe",
   "metadata": {
    "execution": {
     "iopub.execute_input": "2024-08-26T18:25:31.178799Z",
     "iopub.status.busy": "2024-08-26T18:25:31.177646Z",
     "iopub.status.idle": "2024-08-26T18:25:33.499189Z",
     "shell.execute_reply": "2024-08-26T18:25:33.497371Z"
    },
    "papermill": {
     "duration": 2.338216,
     "end_time": "2024-08-26T18:25:33.501609",
     "exception": false,
     "start_time": "2024-08-26T18:25:31.163393",
     "status": "completed"
    },
    "tags": []
   },
   "outputs": [
    {
     "name": "stdout",
     "output_type": "stream",
     "text": [
      "id                            0\n",
      "class                         0\n",
      "cap-diameter                  4\n",
      "cap-shape                    40\n",
      "cap-surface              671023\n",
      "cap-color                    12\n",
      "does-bruise-or-bleed          8\n",
      "gill-attachment          523936\n",
      "gill-spacing            1258435\n",
      "gill-color                   57\n",
      "stem-height                   0\n",
      "stem-width                    0\n",
      "stem-root               2757023\n",
      "stem-surface            1980861\n",
      "stem-color                   38\n",
      "veil-type               2957493\n",
      "veil-color              2740947\n",
      "has-ring                     24\n",
      "ring-type                128880\n",
      "spore-print-color       2849682\n",
      "habitat                      45\n",
      "season                        0\n",
      "dtype: int64\n"
     ]
    }
   ],
   "source": [
    " print(df.isnull().sum())"
   ]
  },
  {
   "cell_type": "code",
   "execution_count": 9,
   "id": "fb0f5ce0",
   "metadata": {
    "execution": {
     "iopub.execute_input": "2024-08-26T18:25:33.530665Z",
     "iopub.status.busy": "2024-08-26T18:25:33.529820Z",
     "iopub.status.idle": "2024-08-26T18:25:33.538547Z",
     "shell.execute_reply": "2024-08-26T18:25:33.537368Z"
    },
    "papermill": {
     "duration": 0.025689,
     "end_time": "2024-08-26T18:25:33.540851",
     "exception": false,
     "start_time": "2024-08-26T18:25:33.515162",
     "status": "completed"
    },
    "tags": []
   },
   "outputs": [
    {
     "data": {
      "text/plain": [
       "('cap-shape',\n",
       " 'cap-surface',\n",
       " 'cap-color',\n",
       " 'does-bruise-or-bleed',\n",
       " 'gill-atachment',\n",
       " 'gill-spacing',\n",
       " 'gill-color',\n",
       " 'stem-root',\n",
       " 'stem-surface',\n",
       " 'stem-color',\n",
       " 'veil-type',\n",
       " 'veil-color',\n",
       " 'has-ring',\n",
       " 'ring-type',\n",
       " 'spore-print-color',\n",
       " 'habitat')"
      ]
     },
     "execution_count": 9,
     "metadata": {},
     "output_type": "execute_result"
    }
   ],
   "source": [
    "'cap-shape','cap-surface', 'cap-color','does-bruise-or-bleed','gill-atachment', 'gill-spacing','gill-color','stem-root','stem-surface','stem-color','veil-type','veil-color','has-ring','ring-type','spore-print-color','habitat'"
   ]
  },
  {
   "cell_type": "code",
   "execution_count": 10,
   "id": "57aaf3c5",
   "metadata": {
    "execution": {
     "iopub.execute_input": "2024-08-26T18:25:33.570222Z",
     "iopub.status.busy": "2024-08-26T18:25:33.569588Z",
     "iopub.status.idle": "2024-08-26T18:25:33.981672Z",
     "shell.execute_reply": "2024-08-26T18:25:33.980531Z"
    },
    "papermill": {
     "duration": 0.429927,
     "end_time": "2024-08-26T18:25:33.984228",
     "exception": false,
     "start_time": "2024-08-26T18:25:33.554301",
     "status": "completed"
    },
    "tags": []
   },
   "outputs": [],
   "source": [
    "df_noisy = df[['cap-shape','cap-surface', 'cap-color','does-bruise-or-bleed',\n",
    "               'gill-attachment', 'gill-spacing','gill-color','stem-root',\n",
    "               'stem-surface','stem-color','veil-type','veil-color',\n",
    "               'has-ring','ring-type','spore-print-color','habitat']]"
   ]
  },
  {
   "cell_type": "code",
   "execution_count": 11,
   "id": "8c3c18af",
   "metadata": {
    "execution": {
     "iopub.execute_input": "2024-08-26T18:25:34.012326Z",
     "iopub.status.busy": "2024-08-26T18:25:34.011944Z",
     "iopub.status.idle": "2024-08-26T18:25:36.064882Z",
     "shell.execute_reply": "2024-08-26T18:25:36.063472Z"
    },
    "papermill": {
     "duration": 2.06948,
     "end_time": "2024-08-26T18:25:36.067030",
     "exception": false,
     "start_time": "2024-08-26T18:25:33.997550",
     "status": "completed"
    },
    "tags": []
   },
   "outputs": [
    {
     "name": "stdout",
     "output_type": "stream",
     "text": [
      "cap-shape                    40\n",
      "cap-surface              671023\n",
      "cap-color                    12\n",
      "does-bruise-or-bleed          8\n",
      "gill-attachment          523936\n",
      "gill-spacing            1258435\n",
      "gill-color                   57\n",
      "stem-root               2757023\n",
      "stem-surface            1980861\n",
      "stem-color                   38\n",
      "veil-type               2957493\n",
      "veil-color              2740947\n",
      "has-ring                     24\n",
      "ring-type                128880\n",
      "spore-print-color       2849682\n",
      "habitat                      45\n",
      "dtype: int64\n",
      "\n"
     ]
    },
    {
     "data": {
      "text/plain": [
       "(None, None)"
      ]
     },
     "execution_count": 11,
     "metadata": {},
     "output_type": "execute_result"
    }
   ],
   "source": [
    "print(df_noisy.isnull().sum()),print()"
   ]
  },
  {
   "cell_type": "code",
   "execution_count": 12,
   "id": "0256678f",
   "metadata": {
    "execution": {
     "iopub.execute_input": "2024-08-26T18:25:36.096092Z",
     "iopub.status.busy": "2024-08-26T18:25:36.095430Z",
     "iopub.status.idle": "2024-08-26T18:25:38.050240Z",
     "shell.execute_reply": "2024-08-26T18:25:38.049269Z"
    },
    "papermill": {
     "duration": 1.972015,
     "end_time": "2024-08-26T18:25:38.052745",
     "exception": false,
     "start_time": "2024-08-26T18:25:36.080730",
     "status": "completed"
    },
    "tags": []
   },
   "outputs": [
    {
     "data": {
      "text/html": [
       "<div>\n",
       "<style scoped>\n",
       "    .dataframe tbody tr th:only-of-type {\n",
       "        vertical-align: middle;\n",
       "    }\n",
       "\n",
       "    .dataframe tbody tr th {\n",
       "        vertical-align: top;\n",
       "    }\n",
       "\n",
       "    .dataframe thead th {\n",
       "        text-align: right;\n",
       "    }\n",
       "</style>\n",
       "<table border=\"1\" class=\"dataframe\">\n",
       "  <thead>\n",
       "    <tr style=\"text-align: right;\">\n",
       "      <th></th>\n",
       "      <th>Column</th>\n",
       "      <th>Null Percentage</th>\n",
       "    </tr>\n",
       "  </thead>\n",
       "  <tbody>\n",
       "    <tr>\n",
       "      <th>0</th>\n",
       "      <td>cap-shape</td>\n",
       "      <td>0.001283</td>\n",
       "    </tr>\n",
       "    <tr>\n",
       "      <th>1</th>\n",
       "      <td>cap-surface</td>\n",
       "      <td>21.528227</td>\n",
       "    </tr>\n",
       "    <tr>\n",
       "      <th>2</th>\n",
       "      <td>cap-color</td>\n",
       "      <td>0.000385</td>\n",
       "    </tr>\n",
       "    <tr>\n",
       "      <th>3</th>\n",
       "      <td>does-bruise-or-bleed</td>\n",
       "      <td>0.000257</td>\n",
       "    </tr>\n",
       "    <tr>\n",
       "      <th>4</th>\n",
       "      <td>gill-attachment</td>\n",
       "      <td>16.809280</td>\n",
       "    </tr>\n",
       "    <tr>\n",
       "      <th>5</th>\n",
       "      <td>gill-spacing</td>\n",
       "      <td>40.373988</td>\n",
       "    </tr>\n",
       "    <tr>\n",
       "      <th>6</th>\n",
       "      <td>gill-color</td>\n",
       "      <td>0.001829</td>\n",
       "    </tr>\n",
       "    <tr>\n",
       "      <th>7</th>\n",
       "      <td>stem-root</td>\n",
       "      <td>88.452732</td>\n",
       "    </tr>\n",
       "    <tr>\n",
       "      <th>8</th>\n",
       "      <td>stem-surface</td>\n",
       "      <td>63.551362</td>\n",
       "    </tr>\n",
       "    <tr>\n",
       "      <th>9</th>\n",
       "      <td>stem-color</td>\n",
       "      <td>0.001219</td>\n",
       "    </tr>\n",
       "    <tr>\n",
       "      <th>10</th>\n",
       "      <td>veil-type</td>\n",
       "      <td>94.884350</td>\n",
       "    </tr>\n",
       "    <tr>\n",
       "      <th>11</th>\n",
       "      <td>veil-color</td>\n",
       "      <td>87.936970</td>\n",
       "    </tr>\n",
       "    <tr>\n",
       "      <th>12</th>\n",
       "      <td>has-ring</td>\n",
       "      <td>0.000770</td>\n",
       "    </tr>\n",
       "    <tr>\n",
       "      <th>13</th>\n",
       "      <td>ring-type</td>\n",
       "      <td>4.134818</td>\n",
       "    </tr>\n",
       "    <tr>\n",
       "      <th>14</th>\n",
       "      <td>spore-print-color</td>\n",
       "      <td>91.425482</td>\n",
       "    </tr>\n",
       "    <tr>\n",
       "      <th>15</th>\n",
       "      <td>habitat</td>\n",
       "      <td>0.001444</td>\n",
       "    </tr>\n",
       "  </tbody>\n",
       "</table>\n",
       "</div>"
      ],
      "text/plain": [
       "                  Column  Null Percentage\n",
       "0              cap-shape         0.001283\n",
       "1            cap-surface        21.528227\n",
       "2              cap-color         0.000385\n",
       "3   does-bruise-or-bleed         0.000257\n",
       "4        gill-attachment        16.809280\n",
       "5           gill-spacing        40.373988\n",
       "6             gill-color         0.001829\n",
       "7              stem-root        88.452732\n",
       "8           stem-surface        63.551362\n",
       "9             stem-color         0.001219\n",
       "10             veil-type        94.884350\n",
       "11            veil-color        87.936970\n",
       "12              has-ring         0.000770\n",
       "13             ring-type         4.134818\n",
       "14     spore-print-color        91.425482\n",
       "15               habitat         0.001444"
      ]
     },
     "execution_count": 12,
     "metadata": {},
     "output_type": "execute_result"
    }
   ],
   "source": [
    "df_noisy_len = len(df_noisy)\n",
    "columns = df_noisy.columns\n",
    "percentage = []\n",
    "# percenta= []\n",
    "for column in columns:\n",
    "    percent= (((df_noisy[column].isnull().sum())*100)/df_noisy_len)\n",
    "    percentage.append([column,percent])\n",
    "#     percenta.append([percent])\n",
    "df_percentage = pd.DataFrame(percentage, columns=['Column', 'Null Percentage'])\n",
    "df_percentage"
   ]
  },
  {
   "cell_type": "markdown",
   "id": "0d30d792",
   "metadata": {
    "papermill": {
     "duration": 0.013366,
     "end_time": "2024-08-26T18:25:38.079863",
     "exception": false,
     "start_time": "2024-08-26T18:25:38.066497",
     "status": "completed"
    },
    "tags": []
   },
   "source": [
    "**df_test**"
   ]
  },
  {
   "cell_type": "code",
   "execution_count": 13,
   "id": "9487b77e",
   "metadata": {
    "execution": {
     "iopub.execute_input": "2024-08-26T18:25:38.108689Z",
     "iopub.status.busy": "2024-08-26T18:25:38.108344Z",
     "iopub.status.idle": "2024-08-26T18:25:39.565824Z",
     "shell.execute_reply": "2024-08-26T18:25:39.564731Z"
    },
    "papermill": {
     "duration": 1.474808,
     "end_time": "2024-08-26T18:25:39.568082",
     "exception": false,
     "start_time": "2024-08-26T18:25:38.093274",
     "status": "completed"
    },
    "tags": []
   },
   "outputs": [
    {
     "name": "stdout",
     "output_type": "stream",
     "text": [
      "id                            0\n",
      "cap-diameter                  7\n",
      "cap-shape                    31\n",
      "cap-surface              446904\n",
      "cap-color                    13\n",
      "does-bruise-or-bleed         10\n",
      "gill-attachment          349821\n",
      "gill-spacing             839595\n",
      "gill-color                   49\n",
      "stem-height                   1\n",
      "stem-width                    0\n",
      "stem-root               1838012\n",
      "stem-surface            1321488\n",
      "stem-color                   21\n",
      "veil-type               1971545\n",
      "veil-color              1826124\n",
      "has-ring                     19\n",
      "ring-type                 86195\n",
      "spore-print-color       1899617\n",
      "habitat                      25\n",
      "season                        0\n",
      "dtype: int64\n"
     ]
    }
   ],
   "source": [
    "print(df_test.isnull().sum())"
   ]
  },
  {
   "cell_type": "code",
   "execution_count": 14,
   "id": "db17283d",
   "metadata": {
    "execution": {
     "iopub.execute_input": "2024-08-26T18:25:39.597201Z",
     "iopub.status.busy": "2024-08-26T18:25:39.596783Z",
     "iopub.status.idle": "2024-08-26T18:25:39.604055Z",
     "shell.execute_reply": "2024-08-26T18:25:39.603093Z"
    },
    "papermill": {
     "duration": 0.024112,
     "end_time": "2024-08-26T18:25:39.606150",
     "exception": false,
     "start_time": "2024-08-26T18:25:39.582038",
     "status": "completed"
    },
    "tags": []
   },
   "outputs": [
    {
     "data": {
      "text/plain": [
       "('cap-diameter',\n",
       " 'cap-shape',\n",
       " 'cap-surface',\n",
       " 'cap-color',\n",
       " 'does-bruise-or-bleed',\n",
       " 'gill-atachment',\n",
       " 'gill-spacing',\n",
       " 'gill-color',\n",
       " 'stem-heightstem-root',\n",
       " 'stem-surface',\n",
       " 'stem-color',\n",
       " 'veil-type',\n",
       " 'veil-color',\n",
       " 'has-ring',\n",
       " 'ring-type',\n",
       " 'spore-print-color',\n",
       " 'habitat')"
      ]
     },
     "execution_count": 14,
     "metadata": {},
     "output_type": "execute_result"
    }
   ],
   "source": [
    "'cap-diameter','cap-shape','cap-surface', 'cap-color','does-bruise-or-bleed','gill-atachment', 'gill-spacing','gill-color','stem-height''stem-root','stem-surface','stem-color','veil-type','veil-color','has-ring','ring-type','spore-print-color','habitat'"
   ]
  },
  {
   "cell_type": "code",
   "execution_count": 15,
   "id": "6f628cc3",
   "metadata": {
    "execution": {
     "iopub.execute_input": "2024-08-26T18:25:39.635248Z",
     "iopub.status.busy": "2024-08-26T18:25:39.634855Z",
     "iopub.status.idle": "2024-08-26T18:25:40.207307Z",
     "shell.execute_reply": "2024-08-26T18:25:40.206245Z"
    },
    "papermill": {
     "duration": 0.589922,
     "end_time": "2024-08-26T18:25:40.209792",
     "exception": false,
     "start_time": "2024-08-26T18:25:39.619870",
     "status": "completed"
    },
    "tags": []
   },
   "outputs": [],
   "source": [
    "df_noisy_test = df[['cap-diameter','cap-shape','cap-surface', 'cap-color','does-bruise-or-bleed',\n",
    "                    'gill-attachment', 'gill-spacing','gill-color','stem-root',\n",
    "                    'stem-surface','stem-color','veil-type','veil-color','has-ring','ring-type',\n",
    "                    'spore-print-color','habitat']]"
   ]
  },
  {
   "cell_type": "code",
   "execution_count": 16,
   "id": "f6cf22e9",
   "metadata": {
    "execution": {
     "iopub.execute_input": "2024-08-26T18:25:40.239197Z",
     "iopub.status.busy": "2024-08-26T18:25:40.238782Z",
     "iopub.status.idle": "2024-08-26T18:25:42.226694Z",
     "shell.execute_reply": "2024-08-26T18:25:42.225636Z"
    },
    "papermill": {
     "duration": 2.005495,
     "end_time": "2024-08-26T18:25:42.229220",
     "exception": false,
     "start_time": "2024-08-26T18:25:40.223725",
     "status": "completed"
    },
    "tags": []
   },
   "outputs": [],
   "source": [
    "df_noisy_test_len = len(df_noisy_test)\n",
    "columns = df_noisy_test.columns\n",
    "percentage = []\n",
    "percenta= []\n",
    "for column in columns:\n",
    "    percent= (((df_noisy_test[column].isnull().sum())*100)/df_noisy_test_len)\n",
    "    percentage.append([column,percent])\n",
    "    percenta.append([percent])\n",
    "df_test_percentage = pd.DataFrame(percentage, columns=['Column', 'Null Percentage'])\n"
   ]
  },
  {
   "cell_type": "code",
   "execution_count": 17,
   "id": "a3319003",
   "metadata": {
    "execution": {
     "iopub.execute_input": "2024-08-26T18:25:42.259186Z",
     "iopub.status.busy": "2024-08-26T18:25:42.258251Z",
     "iopub.status.idle": "2024-08-26T18:25:42.267450Z",
     "shell.execute_reply": "2024-08-26T18:25:42.266229Z"
    },
    "papermill": {
     "duration": 0.026728,
     "end_time": "2024-08-26T18:25:42.269853",
     "exception": false,
     "start_time": "2024-08-26T18:25:42.243125",
     "status": "completed"
    },
    "tags": []
   },
   "outputs": [
    {
     "name": "stdout",
     "output_type": "stream",
     "text": [
      "                  Column  Null Percentage\n",
      "0           cap-diameter         0.000128\n",
      "1              cap-shape         0.001283\n",
      "2            cap-surface        21.528227\n",
      "3              cap-color         0.000385\n",
      "4   does-bruise-or-bleed         0.000257\n",
      "5        gill-attachment        16.809280\n",
      "6           gill-spacing        40.373988\n",
      "7             gill-color         0.001829\n",
      "8              stem-root        88.452732\n",
      "9           stem-surface        63.551362\n",
      "10            stem-color         0.001219\n",
      "11             veil-type        94.884350\n",
      "12            veil-color        87.936970\n",
      "13              has-ring         0.000770\n",
      "14             ring-type         4.134818\n",
      "15     spore-print-color        91.425482\n",
      "16               habitat         0.001444\n",
      "\n",
      "                  Column  Null Percentage\n",
      "0              cap-shape         0.001283\n",
      "1            cap-surface        21.528227\n",
      "2              cap-color         0.000385\n",
      "3   does-bruise-or-bleed         0.000257\n",
      "4        gill-attachment        16.809280\n",
      "5           gill-spacing        40.373988\n",
      "6             gill-color         0.001829\n",
      "7              stem-root        88.452732\n",
      "8           stem-surface        63.551362\n",
      "9             stem-color         0.001219\n",
      "10             veil-type        94.884350\n",
      "11            veil-color        87.936970\n",
      "12              has-ring         0.000770\n",
      "13             ring-type         4.134818\n",
      "14     spore-print-color        91.425482\n",
      "15               habitat         0.001444\n"
     ]
    }
   ],
   "source": [
    "print(df_test_percentage)\n",
    "print()\n",
    "print(df_percentage)"
   ]
  },
  {
   "cell_type": "code",
   "execution_count": 18,
   "id": "289867b5",
   "metadata": {
    "execution": {
     "iopub.execute_input": "2024-08-26T18:25:42.299560Z",
     "iopub.status.busy": "2024-08-26T18:25:42.299189Z",
     "iopub.status.idle": "2024-08-26T18:25:42.847023Z",
     "shell.execute_reply": "2024-08-26T18:25:42.845955Z"
    },
    "papermill": {
     "duration": 0.56586,
     "end_time": "2024-08-26T18:25:42.849694",
     "exception": false,
     "start_time": "2024-08-26T18:25:42.283834",
     "status": "completed"
    },
    "tags": []
   },
   "outputs": [],
   "source": [
    "df_test = df_test[['id','cap-diameter', 'cap-shape', 'cap-surface', 'cap-color',\n",
    "       'does-bruise-or-bleed', 'gill-attachment', 'gill-spacing', 'gill-color',\n",
    "       'stem-height', 'stem-width', 'stem-root', 'stem-surface', 'stem-color',\n",
    "       'veil-type', 'veil-color', 'has-ring', 'ring-type', 'spore-print-color',\n",
    "       'habitat', 'season']]"
   ]
  },
  {
   "cell_type": "code",
   "execution_count": 19,
   "id": "e0c56925",
   "metadata": {
    "execution": {
     "iopub.execute_input": "2024-08-26T18:25:42.938973Z",
     "iopub.status.busy": "2024-08-26T18:25:42.938588Z",
     "iopub.status.idle": "2024-08-26T18:25:42.944833Z",
     "shell.execute_reply": "2024-08-26T18:25:42.943900Z"
    },
    "papermill": {
     "duration": 0.023683,
     "end_time": "2024-08-26T18:25:42.947037",
     "exception": false,
     "start_time": "2024-08-26T18:25:42.923354",
     "status": "completed"
    },
    "tags": []
   },
   "outputs": [
    {
     "data": {
      "text/plain": [
       "(3116945, 22)"
      ]
     },
     "execution_count": 19,
     "metadata": {},
     "output_type": "execute_result"
    }
   ],
   "source": [
    "df.shape"
   ]
  },
  {
   "cell_type": "code",
   "execution_count": 20,
   "id": "31dd5875",
   "metadata": {
    "execution": {
     "iopub.execute_input": "2024-08-26T18:25:42.977029Z",
     "iopub.status.busy": "2024-08-26T18:25:42.976612Z",
     "iopub.status.idle": "2024-08-26T18:25:42.982841Z",
     "shell.execute_reply": "2024-08-26T18:25:42.981707Z"
    },
    "papermill": {
     "duration": 0.02422,
     "end_time": "2024-08-26T18:25:42.985365",
     "exception": false,
     "start_time": "2024-08-26T18:25:42.961145",
     "status": "completed"
    },
    "tags": []
   },
   "outputs": [
    {
     "name": "stdout",
     "output_type": "stream",
     "text": [
      "Index(['id', 'class', 'cap-diameter', 'cap-shape', 'cap-surface', 'cap-color',\n",
      "       'does-bruise-or-bleed', 'gill-attachment', 'gill-spacing', 'gill-color',\n",
      "       'stem-height', 'stem-width', 'stem-root', 'stem-surface', 'stem-color',\n",
      "       'veil-type', 'veil-color', 'has-ring', 'ring-type', 'spore-print-color',\n",
      "       'habitat', 'season'],\n",
      "      dtype='object')\n",
      "Index(['id', 'cap-diameter', 'cap-shape', 'cap-surface', 'cap-color',\n",
      "       'does-bruise-or-bleed', 'gill-attachment', 'gill-spacing', 'gill-color',\n",
      "       'stem-height', 'stem-width', 'stem-root', 'stem-surface', 'stem-color',\n",
      "       'veil-type', 'veil-color', 'has-ring', 'ring-type', 'spore-print-color',\n",
      "       'habitat', 'season'],\n",
      "      dtype='object')\n"
     ]
    }
   ],
   "source": [
    "columns_train = df.columns\n",
    "columns_test= df_test.columns\n",
    "print(columns_train)\n",
    "print(columns_test)"
   ]
  },
  {
   "cell_type": "code",
   "execution_count": 21,
   "id": "5241b54e",
   "metadata": {
    "execution": {
     "iopub.execute_input": "2024-08-26T18:25:43.015976Z",
     "iopub.status.busy": "2024-08-26T18:25:43.015565Z",
     "iopub.status.idle": "2024-08-26T18:25:43.031038Z",
     "shell.execute_reply": "2024-08-26T18:25:43.030054Z"
    },
    "papermill": {
     "duration": 0.033368,
     "end_time": "2024-08-26T18:25:43.033269",
     "exception": false,
     "start_time": "2024-08-26T18:25:42.999901",
     "status": "completed"
    },
    "tags": []
   },
   "outputs": [
    {
     "data": {
      "text/html": [
       "<div>\n",
       "<style scoped>\n",
       "    .dataframe tbody tr th:only-of-type {\n",
       "        vertical-align: middle;\n",
       "    }\n",
       "\n",
       "    .dataframe tbody tr th {\n",
       "        vertical-align: top;\n",
       "    }\n",
       "\n",
       "    .dataframe thead th {\n",
       "        text-align: right;\n",
       "    }\n",
       "</style>\n",
       "<table border=\"1\" class=\"dataframe\">\n",
       "  <thead>\n",
       "    <tr style=\"text-align: right;\">\n",
       "      <th></th>\n",
       "      <th>id</th>\n",
       "    </tr>\n",
       "  </thead>\n",
       "  <tbody>\n",
       "    <tr>\n",
       "      <th>0</th>\n",
       "      <td>3116945</td>\n",
       "    </tr>\n",
       "    <tr>\n",
       "      <th>1</th>\n",
       "      <td>3116946</td>\n",
       "    </tr>\n",
       "    <tr>\n",
       "      <th>2</th>\n",
       "      <td>3116947</td>\n",
       "    </tr>\n",
       "    <tr>\n",
       "      <th>3</th>\n",
       "      <td>3116948</td>\n",
       "    </tr>\n",
       "    <tr>\n",
       "      <th>4</th>\n",
       "      <td>3116949</td>\n",
       "    </tr>\n",
       "  </tbody>\n",
       "</table>\n",
       "</div>"
      ],
      "text/plain": [
       "        id\n",
       "0  3116945\n",
       "1  3116946\n",
       "2  3116947\n",
       "3  3116948\n",
       "4  3116949"
      ]
     },
     "execution_count": 21,
     "metadata": {},
     "output_type": "execute_result"
    }
   ],
   "source": [
    "df_test_columns = df_test[['id']]\n",
    "df_test_columns.head()"
   ]
  },
  {
   "cell_type": "code",
   "execution_count": 22,
   "id": "eb33f7ae",
   "metadata": {
    "execution": {
     "iopub.execute_input": "2024-08-26T18:25:43.064381Z",
     "iopub.status.busy": "2024-08-26T18:25:43.063995Z",
     "iopub.status.idle": "2024-08-26T18:25:44.387339Z",
     "shell.execute_reply": "2024-08-26T18:25:44.386434Z"
    },
    "papermill": {
     "duration": 1.341627,
     "end_time": "2024-08-26T18:25:44.389707",
     "exception": false,
     "start_time": "2024-08-26T18:25:43.048080",
     "status": "completed"
    },
    "tags": []
   },
   "outputs": [],
   "source": [
    "combined_df = pd.concat([df, df_test], ignore_index=True)"
   ]
  },
  {
   "cell_type": "code",
   "execution_count": 23,
   "id": "a9fb01ef",
   "metadata": {
    "execution": {
     "iopub.execute_input": "2024-08-26T18:25:44.421072Z",
     "iopub.status.busy": "2024-08-26T18:25:44.420358Z",
     "iopub.status.idle": "2024-08-26T18:25:45.866403Z",
     "shell.execute_reply": "2024-08-26T18:25:45.865332Z"
    },
    "papermill": {
     "duration": 1.46473,
     "end_time": "2024-08-26T18:25:45.869001",
     "exception": false,
     "start_time": "2024-08-26T18:25:44.404271",
     "status": "completed"
    },
    "tags": []
   },
   "outputs": [],
   "source": [
    "combined_df= combined_df.drop('class',axis=1)"
   ]
  },
  {
   "cell_type": "code",
   "execution_count": 24,
   "id": "393170c7",
   "metadata": {
    "execution": {
     "iopub.execute_input": "2024-08-26T18:25:45.900879Z",
     "iopub.status.busy": "2024-08-26T18:25:45.900489Z",
     "iopub.status.idle": "2024-08-26T18:25:49.542097Z",
     "shell.execute_reply": "2024-08-26T18:25:49.541027Z"
    },
    "papermill": {
     "duration": 3.660944,
     "end_time": "2024-08-26T18:25:49.544696",
     "exception": false,
     "start_time": "2024-08-26T18:25:45.883752",
     "status": "completed"
    },
    "tags": []
   },
   "outputs": [
    {
     "name": "stdout",
     "output_type": "stream",
     "text": [
      "id                            0\n",
      "cap-diameter                 11\n",
      "cap-shape                    71\n",
      "cap-surface             1117927\n",
      "cap-color                    25\n",
      "does-bruise-or-bleed         18\n",
      "gill-attachment          873757\n",
      "gill-spacing            2098030\n",
      "gill-color                  106\n",
      "stem-height                   1\n",
      "stem-width                    0\n",
      "stem-root               4595035\n",
      "stem-surface            3302349\n",
      "stem-color                   59\n",
      "veil-type               4929038\n",
      "veil-color              4567071\n",
      "has-ring                     43\n",
      "ring-type                215075\n",
      "spore-print-color       4749299\n",
      "habitat                      70\n",
      "season                        0\n",
      "dtype: int64\n"
     ]
    }
   ],
   "source": [
    "print(combined_df.isnull().sum())"
   ]
  },
  {
   "cell_type": "code",
   "execution_count": 25,
   "id": "928ba1b6",
   "metadata": {
    "execution": {
     "iopub.execute_input": "2024-08-26T18:25:49.575638Z",
     "iopub.status.busy": "2024-08-26T18:25:49.575286Z",
     "iopub.status.idle": "2024-08-26T18:25:50.772700Z",
     "shell.execute_reply": "2024-08-26T18:25:50.771830Z"
    },
    "papermill": {
     "duration": 1.216199,
     "end_time": "2024-08-26T18:25:50.775545",
     "exception": false,
     "start_time": "2024-08-26T18:25:49.559346",
     "status": "completed"
    },
    "tags": []
   },
   "outputs": [],
   "source": [
    "combined_df = combined_df.drop(['stem-root','veil-type','veil-color'],axis=1)"
   ]
  },
  {
   "cell_type": "code",
   "execution_count": 26,
   "id": "671e69eb",
   "metadata": {
    "execution": {
     "iopub.execute_input": "2024-08-26T18:25:50.815901Z",
     "iopub.status.busy": "2024-08-26T18:25:50.815409Z",
     "iopub.status.idle": "2024-08-26T18:25:54.011311Z",
     "shell.execute_reply": "2024-08-26T18:25:54.010289Z"
    },
    "papermill": {
     "duration": 3.216675,
     "end_time": "2024-08-26T18:25:54.013633",
     "exception": false,
     "start_time": "2024-08-26T18:25:50.796958",
     "status": "completed"
    },
    "tags": []
   },
   "outputs": [
    {
     "name": "stdout",
     "output_type": "stream",
     "text": [
      "id                       0.000000\n",
      "cap-diameter             0.000212\n",
      "cap-shape                0.001367\n",
      "cap-surface             21.519665\n",
      "cap-color                0.000481\n",
      "does-bruise-or-bleed     0.000346\n",
      "gill-attachment         16.819486\n",
      "gill-spacing            40.386270\n",
      "gill-color               0.002040\n",
      "stem-height              0.000019\n",
      "stem-width               0.000000\n",
      "stem-surface            63.568948\n",
      "stem-color               0.001136\n",
      "has-ring                 0.000828\n",
      "ring-type                4.140111\n",
      "spore-print-color       91.422179\n",
      "habitat                  0.001347\n",
      "season                   0.000000\n",
      "dtype: float64\n"
     ]
    }
   ],
   "source": [
    "null_counts = combined_df.isnull().sum()\n",
    "\n",
    "null_percentage = (null_counts / len(combined_df)) * 100\n",
    "\n",
    "print(null_percentage)\n",
    "# 'cap-shape', 'cap-color','does-bruise-or-bleed', 'gill-color','stem-color', 'has-ring','ring-type'\n",
    "\n",
    "# 'gill-attachment', ' cap-surface', 'spore-print-color','gill-spacing', 'stem-surface'"
   ]
  },
  {
   "cell_type": "code",
   "execution_count": 27,
   "id": "ad671ff4",
   "metadata": {
    "execution": {
     "iopub.execute_input": "2024-08-26T18:25:54.044261Z",
     "iopub.status.busy": "2024-08-26T18:25:54.043895Z",
     "iopub.status.idle": "2024-08-26T18:25:57.216688Z",
     "shell.execute_reply": "2024-08-26T18:25:57.215663Z"
    },
    "papermill": {
     "duration": 3.190859,
     "end_time": "2024-08-26T18:25:57.219146",
     "exception": false,
     "start_time": "2024-08-26T18:25:54.028287",
     "status": "completed"
    },
    "tags": []
   },
   "outputs": [
    {
     "data": {
      "text/plain": [
       "id                            0\n",
       "cap-diameter                 11\n",
       "cap-shape                    71\n",
       "cap-surface             1117927\n",
       "cap-color                    25\n",
       "does-bruise-or-bleed         18\n",
       "gill-attachment          873757\n",
       "gill-spacing            2098030\n",
       "gill-color                  106\n",
       "stem-height                   1\n",
       "stem-width                    0\n",
       "stem-surface            3302349\n",
       "stem-color                   59\n",
       "has-ring                     43\n",
       "ring-type                215075\n",
       "spore-print-color       4749299\n",
       "habitat                      70\n",
       "season                        0\n",
       "dtype: int64"
      ]
     },
     "execution_count": 27,
     "metadata": {},
     "output_type": "execute_result"
    }
   ],
   "source": [
    "combined_df.isnull().sum()"
   ]
  },
  {
   "cell_type": "markdown",
   "id": "f94f786b",
   "metadata": {
    "papermill": {
     "duration": 0.014569,
     "end_time": "2024-08-26T18:25:57.248491",
     "exception": false,
     "start_time": "2024-08-26T18:25:57.233922",
     "status": "completed"
    },
    "tags": []
   },
   "source": [
    "'cap-surface','gill-attachment', 'ring-type'"
   ]
  },
  {
   "cell_type": "code",
   "execution_count": 28,
   "id": "cc14289b",
   "metadata": {
    "execution": {
     "iopub.execute_input": "2024-08-26T18:25:57.280469Z",
     "iopub.status.busy": "2024-08-26T18:25:57.280070Z",
     "iopub.status.idle": "2024-08-26T18:25:57.504568Z",
     "shell.execute_reply": "2024-08-26T18:25:57.503302Z"
    },
    "papermill": {
     "duration": 0.243308,
     "end_time": "2024-08-26T18:25:57.507201",
     "exception": false,
     "start_time": "2024-08-26T18:25:57.263893",
     "status": "completed"
    },
    "tags": []
   },
   "outputs": [
    {
     "name": "stdout",
     "output_type": "stream",
     "text": [
      "4145\n",
      "2858\n",
      "6194\n"
     ]
    }
   ],
   "source": [
    "print(combined_df['cap-diameter'].nunique())\n",
    "print(combined_df['stem-height'].nunique())\n",
    "print(combined_df['stem-width'].nunique())"
   ]
  },
  {
   "cell_type": "code",
   "execution_count": 29,
   "id": "bb0bfd6e",
   "metadata": {
    "execution": {
     "iopub.execute_input": "2024-08-26T18:25:57.540267Z",
     "iopub.status.busy": "2024-08-26T18:25:57.539398Z",
     "iopub.status.idle": "2024-08-26T18:25:57.969162Z",
     "shell.execute_reply": "2024-08-26T18:25:57.968023Z"
    },
    "papermill": {
     "duration": 0.449038,
     "end_time": "2024-08-26T18:25:57.971698",
     "exception": false,
     "start_time": "2024-08-26T18:25:57.522660",
     "status": "completed"
    },
    "tags": []
   },
   "outputs": [
    {
     "name": "stderr",
     "output_type": "stream",
     "text": [
      "/tmp/ipykernel_18/2462456572.py:6: FutureWarning: A value is trying to be set on a copy of a DataFrame or Series through chained assignment using an inplace method.\n",
      "The behavior will change in pandas 3.0. This inplace method will never work because the intermediate object on which we are setting values always behaves as a copy.\n",
      "\n",
      "For example, when doing 'df[col].method(value, inplace=True)', try using 'df.method({col: value}, inplace=True)' or df[col] = df[col].method(value) instead, to perform the operation inplace on the original object.\n",
      "\n",
      "\n",
      "  combined_df[column].fillna(median_value,inplace=True)\n",
      "/tmp/ipykernel_18/2462456572.py:6: FutureWarning: A value is trying to be set on a copy of a DataFrame or Series through chained assignment using an inplace method.\n",
      "The behavior will change in pandas 3.0. This inplace method will never work because the intermediate object on which we are setting values always behaves as a copy.\n",
      "\n",
      "For example, when doing 'df[col].method(value, inplace=True)', try using 'df.method({col: value}, inplace=True)' or df[col] = df[col].method(value) instead, to perform the operation inplace on the original object.\n",
      "\n",
      "\n",
      "  combined_df[column].fillna(median_value,inplace=True)\n",
      "/tmp/ipykernel_18/2462456572.py:6: FutureWarning: A value is trying to be set on a copy of a DataFrame or Series through chained assignment using an inplace method.\n",
      "The behavior will change in pandas 3.0. This inplace method will never work because the intermediate object on which we are setting values always behaves as a copy.\n",
      "\n",
      "For example, when doing 'df[col].method(value, inplace=True)', try using 'df.method({col: value}, inplace=True)' or df[col] = df[col].method(value) instead, to perform the operation inplace on the original object.\n",
      "\n",
      "\n",
      "  combined_df[column].fillna(median_value,inplace=True)\n"
     ]
    }
   ],
   "source": [
    "# for train data\n",
    "columns= ['cap-diameter','stem-height', 'stem-width']\n",
    "for column in columns:\n",
    "    if combined_df[column].dtype == 'float64':\n",
    "        median_value = combined_df[column].median()\n",
    "        combined_df[column].fillna(median_value,inplace=True)\n",
    "# combined_df.isnull().sum()"
   ]
  },
  {
   "cell_type": "code",
   "execution_count": 30,
   "id": "7fca132c",
   "metadata": {
    "execution": {
     "iopub.execute_input": "2024-08-26T18:25:58.009895Z",
     "iopub.status.busy": "2024-08-26T18:25:58.009494Z",
     "iopub.status.idle": "2024-08-26T18:25:58.014612Z",
     "shell.execute_reply": "2024-08-26T18:25:58.013426Z"
    },
    "papermill": {
     "duration": 0.023558,
     "end_time": "2024-08-26T18:25:58.016830",
     "exception": false,
     "start_time": "2024-08-26T18:25:57.993272",
     "status": "completed"
    },
    "tags": []
   },
   "outputs": [],
   "source": [
    "# for train data\n",
    "# columns= ['cap-diameter', 'cap-shape','cap-color',\n",
    "#        'does-bruise-or-bleed', 'gill-color',\n",
    "#        'stem-height', 'stem-width', 'stem-color',\n",
    "#         'has-ring', 'spore-print-color',\n",
    "#        'habitat', 'season','cap-surface','gill-attachment', 'ring-type']\n",
    "# for column in columns:\n",
    "#     if df[column].dtype == 'object':\n",
    "#         mode_value = df[column].mode()[0]\n",
    "#         df[column].fillna(mode_value, inplace=True)\n",
    "#     else:\n",
    "#         median_value = df[column].median()\n",
    "#         df[column].fillna(median_value,inplace=True)"
   ]
  },
  {
   "cell_type": "code",
   "execution_count": 31,
   "id": "920f824c",
   "metadata": {
    "execution": {
     "iopub.execute_input": "2024-08-26T18:25:58.048940Z",
     "iopub.status.busy": "2024-08-26T18:25:58.048085Z",
     "iopub.status.idle": "2024-08-26T18:26:02.531611Z",
     "shell.execute_reply": "2024-08-26T18:26:02.530526Z"
    },
    "papermill": {
     "duration": 4.502476,
     "end_time": "2024-08-26T18:26:02.534258",
     "exception": false,
     "start_time": "2024-08-26T18:25:58.031782",
     "status": "completed"
    },
    "tags": []
   },
   "outputs": [
    {
     "name": "stderr",
     "output_type": "stream",
     "text": [
      "/tmp/ipykernel_18/965031044.py:4: FutureWarning: A value is trying to be set on a copy of a DataFrame or Series through chained assignment using an inplace method.\n",
      "The behavior will change in pandas 3.0. This inplace method will never work because the intermediate object on which we are setting values always behaves as a copy.\n",
      "\n",
      "For example, when doing 'df[col].method(value, inplace=True)', try using 'df.method({col: value}, inplace=True)' or df[col] = df[col].method(value) instead, to perform the operation inplace on the original object.\n",
      "\n",
      "\n",
      "  combined_df[column].fillna(mode_value,inplace =True)\n"
     ]
    }
   ],
   "source": [
    "columns = ['cap-shape', 'cap-color','does-bruise-or-bleed', 'gill-color','stem-color', 'has-ring','ring-type','habitat']\n",
    "for column in columns:\n",
    "    mode_value = combined_df[column].mode()[0]\n",
    "    combined_df[column].fillna(mode_value,inplace =True)"
   ]
  },
  {
   "cell_type": "code",
   "execution_count": 32,
   "id": "6a879a3f",
   "metadata": {
    "execution": {
     "iopub.execute_input": "2024-08-26T18:26:02.568225Z",
     "iopub.status.busy": "2024-08-26T18:26:02.567153Z"
    },
    "papermill": {
     "duration": 51.088184,
     "end_time": "2024-08-26T18:26:53.638426",
     "exception": false,
     "start_time": "2024-08-26T18:26:02.550242",
     "status": "completed"
    },
    "tags": []
   },
   "outputs": [],
   "source": [
    "import pandas as pd\n",
    "from sklearn.ensemble import RandomForestClassifier\n",
    "from sklearn.model_selection import train_test_split\n",
    "from sklearn.metrics import accuracy_score\n",
    "\n",
    "# Assuming combined_df is your DataFrame\n",
    "\n",
    "# Separate rows with missing and non-missing 'gill-attachment'\n",
    "df_non_missing = combined_df[combined_df['gill-attachment'].notnull()]\n",
    "df_missing = combined_df[combined_df['gill-attachment'].isnull()]\n",
    "\n",
    "# Prepare features and target for training\n",
    "# Drop the target column and columns to be removed for prediction\n",
    "X_non_missing = df_non_missing.drop(columns=['gill-attachment', 'id', 'cap-diameter', 'stem-height', 'stem-width'])\n",
    "y_non_missing = df_non_missing['gill-attachment']\n",
    "\n",
    "# Handle categorical variables\n",
    "X_non_missing = pd.get_dummies(X_non_missing, drop_first=True)\n",
    "\n",
    "X_missing = df_missing.drop(columns=['gill-attachment', 'id', 'cap-diameter', 'stem-height', 'stem-width'])\n",
    "X_missing = pd.get_dummies(X_missing, drop_first=True)\n",
    "\n",
    "# Align the columns in X_missing with X_non_missing\n",
    "X_missing = X_missing.reindex(columns=X_non_missing.columns, fill_value=0)\n",
    "\n",
    "# Train-Test split for model evaluation (optional)\n",
    "X_train, X_val, y_train, y_val = train_test_split(X_non_missing, y_non_missing, test_size=0.2, random_state=42)\n",
    "\n",
    "# Initialize and train the Random Forest model\n",
    "model = RandomForestClassifier(random_state=42)\n",
    "model.fit(X_train, y_train)\n",
    "\n",
    "# Predict on the validation set (optional)\n",
    "y_val_pred = model.predict(X_val)\n",
    "print(f'Validation Accuracy: {accuracy_score(y_val, y_val_pred)}')\n",
    "\n",
    "# Predict missing values\n",
    "predicted_values = model.predict(X_missing)\n",
    "\n",
    "# Fill missing values in 'gill-attachment'\n",
    "combined_df.loc[combined_df['gill-attachment'].isnull(), 'gill-attachment'] = predicted_values\n",
    "\n",
    "# Remove columns 'cap-diameter', 'stem-height', 'stem-width'\n",
    "combined_df = combined_df.drop(columns=['cap-diameter', 'stem-height', 'stem-width'])\n",
    "\n",
    "# Check if there are any remaining missing values in 'gill-attachment'\n",
    "print(combined_df['gill-attachment'].isnull().sum())\n",
    "\n",
    "# Display the DataFrame structure after removal\n",
    "print(combined_df.head())\n"
   ]
  },
  {
   "cell_type": "markdown",
   "id": "43440992",
   "metadata": {
    "papermill": {
     "duration": null,
     "end_time": null,
     "exception": null,
     "start_time": null,
     "status": "completed"
    },
    "tags": []
   },
   "source": [
    "> **here, use somthing with 'cap-diameter','stem-height', 'stem-width'\n",
    "and use random classifier to fill missing values of 'gill-attachment', ' cap-surface', 'spore-print-color','gill-spacing', 'stem-surface'\n",
    "**"
   ]
  },
  {
   "cell_type": "markdown",
   "id": "24729e9a",
   "metadata": {
    "papermill": {
     "duration": null,
     "end_time": null,
     "exception": null,
     "start_time": null,
     "status": "completed"
    },
    "tags": []
   },
   "source": []
  },
  {
   "cell_type": "code",
   "execution_count": null,
   "id": "a458ce95",
   "metadata": {
    "execution": {
     "iopub.status.busy": "2024-08-24T08:11:18.413255Z",
     "iopub.status.idle": "2024-08-24T08:11:18.413661Z",
     "shell.execute_reply": "2024-08-24T08:11:18.413484Z",
     "shell.execute_reply.started": "2024-08-24T08:11:18.413468Z"
    },
    "papermill": {
     "duration": null,
     "end_time": null,
     "exception": null,
     "start_time": null,
     "status": "completed"
    },
    "tags": []
   },
   "outputs": [],
   "source": [
    "plt.figure(figsize=(10, 6))\n",
    "plt.bar(df_percentage['Column'], df_percentage['Null Percentage'], color ='maroon')\n",
    "plt.xlabel(\"Columns\")\n",
    "plt.ylabel(\"Null Percentage\")\n",
    "plt.title(\"Null Percentage in Each Column\")\n",
    "plt.show()"
   ]
  },
  {
   "cell_type": "markdown",
   "id": "930f01f0",
   "metadata": {
    "papermill": {
     "duration": null,
     "end_time": null,
     "exception": null,
     "start_time": null,
     "status": "completed"
    },
    "tags": []
   },
   "source": []
  },
  {
   "cell_type": "code",
   "execution_count": null,
   "id": "a753f8fa",
   "metadata": {
    "execution": {
     "iopub.status.busy": "2024-08-24T08:11:18.415010Z",
     "iopub.status.idle": "2024-08-24T08:11:18.415408Z",
     "shell.execute_reply": "2024-08-24T08:11:18.415232Z",
     "shell.execute_reply.started": "2024-08-24T08:11:18.415216Z"
    },
    "papermill": {
     "duration": null,
     "end_time": null,
     "exception": null,
     "start_time": null,
     "status": "completed"
    },
    "tags": []
   },
   "outputs": [],
   "source": [
    "df_noisy.shape"
   ]
  },
  {
   "cell_type": "code",
   "execution_count": null,
   "id": "99a71ca3",
   "metadata": {
    "execution": {
     "iopub.status.busy": "2024-08-24T08:11:18.417367Z",
     "iopub.status.idle": "2024-08-24T08:11:18.417778Z",
     "shell.execute_reply": "2024-08-24T08:11:18.417593Z",
     "shell.execute_reply.started": "2024-08-24T08:11:18.417570Z"
    },
    "papermill": {
     "duration": null,
     "end_time": null,
     "exception": null,
     "start_time": null,
     "status": "completed"
    },
    "tags": []
   },
   "outputs": [],
   "source": [
    "print(671023+2445922)"
   ]
  },
  {
   "cell_type": "code",
   "execution_count": null,
   "id": "47f434d9",
   "metadata": {
    "papermill": {
     "duration": null,
     "end_time": null,
     "exception": null,
     "start_time": null,
     "status": "completed"
    },
    "tags": []
   },
   "outputs": [],
   "source": []
  },
  {
   "cell_type": "code",
   "execution_count": null,
   "id": "b3c4b6d5",
   "metadata": {
    "execution": {
     "iopub.status.busy": "2024-08-24T08:11:18.419362Z",
     "iopub.status.idle": "2024-08-24T08:11:18.419792Z",
     "shell.execute_reply": "2024-08-24T08:11:18.419602Z",
     "shell.execute_reply.started": "2024-08-24T08:11:18.419585Z"
    },
    "papermill": {
     "duration": null,
     "end_time": null,
     "exception": null,
     "start_time": null,
     "status": "completed"
    },
    "tags": []
   },
   "outputs": [],
   "source": [
    "df_train = df.drop(['stem-root', 'veil-type', 'veil-color'], axis=1)\n",
    "print(df_train.isnull().sum()),print()"
   ]
  },
  {
   "cell_type": "code",
   "execution_count": null,
   "id": "cc874986",
   "metadata": {
    "execution": {
     "iopub.status.busy": "2024-08-24T08:11:18.421408Z",
     "iopub.status.idle": "2024-08-24T08:11:18.421804Z",
     "shell.execute_reply": "2024-08-24T08:11:18.421630Z",
     "shell.execute_reply.started": "2024-08-24T08:11:18.421614Z"
    },
    "papermill": {
     "duration": null,
     "end_time": null,
     "exception": null,
     "start_time": null,
     "status": "completed"
    },
    "tags": []
   },
   "outputs": [],
   "source": [
    "df_train.head()"
   ]
  },
  {
   "cell_type": "code",
   "execution_count": null,
   "id": "0a95c424",
   "metadata": {
    "execution": {
     "iopub.status.busy": "2024-08-24T08:11:18.423059Z",
     "iopub.status.idle": "2024-08-24T08:11:18.423460Z",
     "shell.execute_reply": "2024-08-24T08:11:18.423279Z",
     "shell.execute_reply.started": "2024-08-24T08:11:18.423263Z"
    },
    "papermill": {
     "duration": null,
     "end_time": null,
     "exception": null,
     "start_time": null,
     "status": "completed"
    },
    "tags": []
   },
   "outputs": [],
   "source": [
    "df_train.columns"
   ]
  },
  {
   "cell_type": "code",
   "execution_count": null,
   "id": "ed11ff8a",
   "metadata": {
    "execution": {
     "iopub.status.busy": "2024-08-24T08:11:18.424589Z",
     "iopub.status.idle": "2024-08-24T08:11:18.424981Z",
     "shell.execute_reply": "2024-08-24T08:11:18.424783Z",
     "shell.execute_reply.started": "2024-08-24T08:11:18.424769Z"
    },
    "papermill": {
     "duration": null,
     "end_time": null,
     "exception": null,
     "start_time": null,
     "status": "completed"
    },
    "tags": []
   },
   "outputs": [],
   "source": [
    "df_gill= df_train[['id', 'class', 'cap-diameter', 'cap-shape', 'cap-surface', 'cap-color',\n",
    "       'does-bruise-or-bleed', 'gill-attachment', 'gill-spacing', 'gill-color',\n",
    "       'stem-height', 'stem-width', 'stem-color', 'has-ring',\n",
    "       'ring-type', 'spore-print-color', 'habitat', 'season']]"
   ]
  },
  {
   "cell_type": "markdown",
   "id": "c66d3efb",
   "metadata": {
    "papermill": {
     "duration": null,
     "end_time": null,
     "exception": null,
     "start_time": null,
     "status": "completed"
    },
    "tags": []
   },
   "source": [
    "'cap-diameter','stem-width', 'stem-height'"
   ]
  },
  {
   "cell_type": "code",
   "execution_count": null,
   "id": "4cb8d27b",
   "metadata": {
    "execution": {
     "iopub.status.busy": "2024-08-24T08:11:18.426552Z",
     "iopub.status.idle": "2024-08-24T08:11:18.426988Z",
     "shell.execute_reply": "2024-08-24T08:11:18.426779Z",
     "shell.execute_reply.started": "2024-08-24T08:11:18.426763Z"
    },
    "papermill": {
     "duration": null,
     "end_time": null,
     "exception": null,
     "start_time": null,
     "status": "completed"
    },
    "tags": []
   },
   "outputs": [],
   "source": [
    "import pandas as pd\n",
    "from sklearn.ensemble import RandomForestClassifier\n",
    "from sklearn.model_selection import train_test_split\n",
    "\n",
    "\n",
    "df_not_missing = df_gill[df_train['gill-spacing'].notna()]\n",
    "df_missing = df_gill[df_train['gill-spacing'].isna()]"
   ]
  },
  {
   "cell_type": "code",
   "execution_count": null,
   "id": "b08fa945",
   "metadata": {
    "execution": {
     "iopub.status.busy": "2024-08-24T08:11:18.428492Z",
     "iopub.status.idle": "2024-08-24T08:11:18.428899Z",
     "shell.execute_reply": "2024-08-24T08:11:18.428723Z",
     "shell.execute_reply.started": "2024-08-24T08:11:18.428707Z"
    },
    "papermill": {
     "duration": null,
     "end_time": null,
     "exception": null,
     "start_time": null,
     "status": "completed"
    },
    "tags": []
   },
   "outputs": [],
   "source": [
    "df_not_missing.head()"
   ]
  },
  {
   "cell_type": "code",
   "execution_count": null,
   "id": "0d569158",
   "metadata": {
    "execution": {
     "iopub.status.busy": "2024-08-24T08:11:18.430877Z",
     "iopub.status.idle": "2024-08-24T08:11:18.431572Z",
     "shell.execute_reply": "2024-08-24T08:11:18.431202Z",
     "shell.execute_reply.started": "2024-08-24T08:11:18.431162Z"
    },
    "papermill": {
     "duration": null,
     "end_time": null,
     "exception": null,
     "start_time": null,
     "status": "completed"
    },
    "tags": []
   },
   "outputs": [],
   "source": [
    "df_missing.head()"
   ]
  },
  {
   "cell_type": "code",
   "execution_count": null,
   "id": "0af66868",
   "metadata": {
    "execution": {
     "iopub.status.busy": "2024-08-24T08:11:18.432974Z",
     "iopub.status.idle": "2024-08-24T08:11:18.433498Z",
     "shell.execute_reply": "2024-08-24T08:11:18.433252Z",
     "shell.execute_reply.started": "2024-08-24T08:11:18.433230Z"
    },
    "papermill": {
     "duration": null,
     "end_time": null,
     "exception": null,
     "start_time": null,
     "status": "completed"
    },
    "tags": []
   },
   "outputs": [],
   "source": [
    "X = df_not_missing.drop('gill-spacing', axis=1) \n",
    "y = df_not_missing['gill-spacing']\n",
    "\n",
    "\n",
    "X_missing = df_missing.drop('gill-spacing', axis=1)\n",
    "\n",
    "\n",
    "model = RandomForestClassifier(random_state=42)\n",
    "model.fit(X, y)\n",
    "\n",
    "\n",
    "predicted_values = model.predict(X_missing)\n",
    "\n",
    "\n",
    "df_missing['gill-spacing'] = predicted_values\n",
    "\n",
    "\n",
    "df_filled = pd.concat([df_not_missing, df_missing]).sort_index()"
   ]
  },
  {
   "cell_type": "code",
   "execution_count": null,
   "id": "02937700",
   "metadata": {
    "execution": {
     "iopub.status.busy": "2024-08-24T08:11:18.435290Z",
     "iopub.status.idle": "2024-08-24T08:11:18.435821Z",
     "shell.execute_reply": "2024-08-24T08:11:18.435574Z",
     "shell.execute_reply.started": "2024-08-24T08:11:18.435544Z"
    },
    "papermill": {
     "duration": null,
     "end_time": null,
     "exception": null,
     "start_time": null,
     "status": "completed"
    },
    "tags": []
   },
   "outputs": [],
   "source": [
    "df.head()"
   ]
  },
  {
   "cell_type": "code",
   "execution_count": null,
   "id": "6b73c3f1",
   "metadata": {
    "execution": {
     "iopub.status.busy": "2024-08-24T08:11:18.437726Z",
     "iopub.status.idle": "2024-08-24T08:11:18.438283Z",
     "shell.execute_reply": "2024-08-24T08:11:18.438031Z",
     "shell.execute_reply.started": "2024-08-24T08:11:18.438008Z"
    },
    "papermill": {
     "duration": null,
     "end_time": null,
     "exception": null,
     "start_time": null,
     "status": "completed"
    },
    "tags": []
   },
   "outputs": [],
   "source": [
    "df_area = df_train[['cap-diameter','stem-width', 'stem-height','class']]\n",
    "df_area.sample(20)"
   ]
  },
  {
   "cell_type": "code",
   "execution_count": null,
   "id": "fb8e93bd",
   "metadata": {
    "execution": {
     "iopub.status.busy": "2024-08-24T08:11:18.440540Z",
     "iopub.status.idle": "2024-08-24T08:11:18.441105Z",
     "shell.execute_reply": "2024-08-24T08:11:18.440835Z",
     "shell.execute_reply.started": "2024-08-24T08:11:18.440812Z"
    },
    "papermill": {
     "duration": null,
     "end_time": null,
     "exception": null,
     "start_time": null,
     "status": "completed"
    },
    "tags": []
   },
   "outputs": [],
   "source": [
    "df_area.isnull().sum()\n",
    "df_area.dtypes"
   ]
  },
  {
   "cell_type": "code",
   "execution_count": null,
   "id": "e5377528",
   "metadata": {
    "execution": {
     "iopub.status.busy": "2024-08-24T08:11:18.442570Z",
     "iopub.status.idle": "2024-08-24T08:11:18.443120Z",
     "shell.execute_reply": "2024-08-24T08:11:18.442847Z",
     "shell.execute_reply.started": "2024-08-24T08:11:18.442825Z"
    },
    "papermill": {
     "duration": null,
     "end_time": null,
     "exception": null,
     "start_time": null,
     "status": "completed"
    },
    "tags": []
   },
   "outputs": [],
   "source": [
    "import seaborn as sns\n",
    "# import matplotlib as plt\n",
    "import matplotlib.pyplot as plt\n",
    "# Correlation matrix\n",
    "# cor = df_area.drop([[]])\n",
    "corr_matrix = df_area.drop('class',axis=1).corr()\n",
    "\n",
    "# Heatmap of correlation matrix\n",
    "sns.heatmap(corr_matrix, annot=True, cmap='coolwarm')\n",
    "plt.show()\n"
   ]
  },
  {
   "cell_type": "code",
   "execution_count": null,
   "id": "025e9a8c",
   "metadata": {
    "execution": {
     "iopub.status.busy": "2024-08-24T08:11:18.445215Z",
     "iopub.status.idle": "2024-08-24T08:11:18.445753Z",
     "shell.execute_reply": "2024-08-24T08:11:18.445493Z",
     "shell.execute_reply.started": "2024-08-24T08:11:18.445469Z"
    },
    "papermill": {
     "duration": null,
     "end_time": null,
     "exception": null,
     "start_time": null,
     "status": "completed"
    },
    "tags": []
   },
   "outputs": [],
   "source": [
    "# Box plots to visualize distribution by class\n",
    "df_area.boxplot(column=['cap-diameter', 'stem-width', 'stem-height'], by='class', figsize=(12, 6))\n",
    "plt.show()\n"
   ]
  },
  {
   "cell_type": "code",
   "execution_count": null,
   "id": "3f6327e1",
   "metadata": {
    "execution": {
     "iopub.status.busy": "2024-08-24T08:11:18.447539Z",
     "iopub.status.idle": "2024-08-24T08:11:18.448100Z",
     "shell.execute_reply": "2024-08-24T08:11:18.447825Z",
     "shell.execute_reply.started": "2024-08-24T08:11:18.447803Z"
    },
    "papermill": {
     "duration": null,
     "end_time": null,
     "exception": null,
     "start_time": null,
     "status": "completed"
    },
    "tags": []
   },
   "outputs": [],
   "source": [
    "# Scatter plot matrix\n",
    "pd.plotting.scatter_matrix(df_area[['cap-diameter', 'stem-width', 'stem-height']], figsize=(12, 8), diagonal='kde')\n",
    "plt.show()\n"
   ]
  },
  {
   "cell_type": "code",
   "execution_count": null,
   "id": "47c35fa3",
   "metadata": {
    "papermill": {
     "duration": null,
     "end_time": null,
     "exception": null,
     "start_time": null,
     "status": "completed"
    },
    "tags": []
   },
   "outputs": [],
   "source": [
    "columns_object = ['cap-shape', 'cap-color', 'does-bruise-or-bleed', 'gill-color', \n",
    "                  'stem-color', 'has-ring', 'ring-type', 'habitat']\n",
    "for column in columns_object:\n",
    "    mode_value = df[column].mode()[0]  # Get the mode of the column\n",
    "    df[column] = df[column].fillna(mode_value) \n",
    "for column in columns_object:\n",
    "    mode_value = df_test[column].mode()[0]  # Get the mode of the column\n",
    "    df_test[column] = df_test[column].fillna(mode_value) \n",
    "\n",
    "columns_continous = ['cap-diameter', 'stem-height']\n",
    "for column in columns_continous:\n",
    "    mean_value = df[column].mean()\n",
    "    df[column]=df[column].fillna(mean_value)\n",
    "for column in columns_continous:\n",
    "    mean_value = df_test[column].mean()\n",
    "    df_test[column]=df_test[column].fillna(mean_value)"
   ]
  },
  {
   "cell_type": "code",
   "execution_count": null,
   "id": "bd7ca2db",
   "metadata": {
    "papermill": {
     "duration": null,
     "end_time": null,
     "exception": null,
     "start_time": null,
     "status": "completed"
    },
    "tags": []
   },
   "outputs": [],
   "source": [
    "import pandas as pd\n",
    "import lightgbm as lgb\n",
    "from sklearn.model_selection import train_test_split\n",
    "from sklearn.metrics import accuracy_score\n",
    "\n",
    "# Assuming combined_train_df is your DataFrame\n",
    "X = df.drop('class', axis=1)\n",
    "y = df['class']\n",
    "\n",
    "# Split the data into training and testing sets\n",
    "X_train, X_test, y_train, y_test = train_test_split(X, y, test_size=0.25, train_size=0.75, random_state=42, shuffle=True)\n",
    "\n",
    "# Identify categorical and continuous columns\n",
    "categorical_columns = [col for col in X.columns if col not in ['cap-diameter', 'stem-height', 'stem-width']]\n",
    "continuous_columns = ['cap-diameter', 'stem-height', 'stem-width']\n",
    "\n",
    "# Convert categorical columns to 'category' dtype\n",
    "for col in categorical_columns:\n",
    "    X_train[col] = X_train[col].astype('category')\n",
    "    X_test[col] = X_test[col].astype('category')\n",
    "\n",
    "# Initialize LightGBM classifier\n",
    "lgb_clf = lgb.LGBMClassifier(objective='binary', random_state=42)\n",
    "\n",
    "# Train the model\n",
    "lgb_clf.fit(X_train, y_train, categorical_feature=categorical_columns)\n",
    "\n",
    "# Predict on the test set\n",
    "y_pred = lgb_clf.predict(X_test)\n",
    "\n",
    "# Evaluate the accuracy\n",
    "accuracy = accuracy_score(y_test, y_pred)\n",
    "print(f\"Test set accuracy: {accuracy:.4f}\")"
   ]
  },
  {
   "cell_type": "markdown",
   "id": "1e3546fa",
   "metadata": {
    "papermill": {
     "duration": null,
     "end_time": null,
     "exception": null,
     "start_time": null,
     "status": "completed"
    },
    "tags": []
   },
   "source": [
    "# Handling missing values"
   ]
  },
  {
   "cell_type": "code",
   "execution_count": null,
   "id": "20326f0d",
   "metadata": {
    "papermill": {
     "duration": null,
     "end_time": null,
     "exception": null,
     "start_time": null,
     "status": "completed"
    },
    "tags": []
   },
   "outputs": [],
   "source": [
    "df = df.drop(['stem-root','veil-type','veil-color'],axis=1)\n",
    "df_test = df_test.drop(['stem-root','veil-type','veil-color'],axis=1)\n",
    "\n",
    "df.isna().sum()\n",
    "df_test.isna().sum()"
   ]
  },
  {
   "cell_type": "code",
   "execution_count": null,
   "id": "a2192be0",
   "metadata": {
    "papermill": {
     "duration": null,
     "end_time": null,
     "exception": null,
     "start_time": null,
     "status": "completed"
    },
    "tags": []
   },
   "outputs": [],
   "source": []
  },
  {
   "cell_type": "code",
   "execution_count": null,
   "id": "674001d1",
   "metadata": {
    "papermill": {
     "duration": null,
     "end_time": null,
     "exception": null,
     "start_time": null,
     "status": "completed"
    },
    "tags": []
   },
   "outputs": [],
   "source": []
  }
 ],
 "metadata": {
  "kaggle": {
   "accelerator": "none",
   "dataSources": [
    {
     "databundleVersionId": 9045607,
     "sourceId": 76727,
     "sourceType": "competition"
    }
   ],
   "dockerImageVersionId": 30746,
   "isGpuEnabled": false,
   "isInternetEnabled": true,
   "language": "python",
   "sourceType": "notebook"
  },
  "kernelspec": {
   "display_name": "Python 3",
   "language": "python",
   "name": "python3"
  },
  "language_info": {
   "codemirror_mode": {
    "name": "ipython",
    "version": 3
   },
   "file_extension": ".py",
   "mimetype": "text/x-python",
   "name": "python",
   "nbconvert_exporter": "python",
   "pygments_lexer": "ipython3",
   "version": "3.10.13"
  },
  "papermill": {
   "default_parameters": {},
   "duration": 120.736747,
   "end_time": "2024-08-26T18:26:53.690612",
   "environment_variables": {},
   "exception": null,
   "input_path": "__notebook__.ipynb",
   "output_path": "__notebook__.ipynb",
   "parameters": {},
   "start_time": "2024-08-26T18:24:52.953865",
   "version": "2.5.0"
  }
 },
 "nbformat": 4,
 "nbformat_minor": 5
}
