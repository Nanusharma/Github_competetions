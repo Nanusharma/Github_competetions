{
 "cells": [
  {
   "cell_type": "code",
   "execution_count": 1,
   "id": "800b6240",
   "metadata": {
    "_cell_guid": "b1076dfc-b9ad-4769-8c92-a6c4dae69d19",
    "_uuid": "8f2839f25d086af736a60e9eeb907d3b93b6e0e5",
    "execution": {
     "iopub.execute_input": "2024-06-02T16:50:16.961309Z",
     "iopub.status.busy": "2024-06-02T16:50:16.960498Z",
     "iopub.status.idle": "2024-06-02T16:50:18.007239Z",
     "shell.execute_reply": "2024-06-02T16:50:18.005955Z"
    },
    "papermill": {
     "duration": 1.058176,
     "end_time": "2024-06-02T16:50:18.010420",
     "exception": false,
     "start_time": "2024-06-02T16:50:16.952244",
     "status": "completed"
    },
    "tags": []
   },
   "outputs": [],
   "source": [
    "import pandas as pd\n",
    "import numpy as np\n",
    "import matplotlib.pyplot as plt"
   ]
  },
  {
   "cell_type": "code",
   "execution_count": 2,
   "id": "d3fe0cf0",
   "metadata": {
    "execution": {
     "iopub.execute_input": "2024-06-02T16:50:18.024840Z",
     "iopub.status.busy": "2024-06-02T16:50:18.024082Z",
     "iopub.status.idle": "2024-06-02T16:50:18.867270Z",
     "shell.execute_reply": "2024-06-02T16:50:18.866334Z"
    },
    "papermill": {
     "duration": 0.853688,
     "end_time": "2024-06-02T16:50:18.870230",
     "exception": false,
     "start_time": "2024-06-02T16:50:18.016542",
     "status": "completed"
    },
    "tags": []
   },
   "outputs": [],
   "source": [
    "df = pd.read_csv('/kaggle/input/playground-series-s4e6/train.csv')\n",
    "df_test = pd.read_csv( '/kaggle/input/playground-series-s4e6/test.csv')\n",
    "df_sample=pd.read_csv('/kaggle/input/playground-series-s4e6/sample_submission.csv')"
   ]
  },
  {
   "cell_type": "code",
   "execution_count": 3,
   "id": "cf7b2a8c",
   "metadata": {
    "execution": {
     "iopub.execute_input": "2024-06-02T16:50:18.883201Z",
     "iopub.status.busy": "2024-06-02T16:50:18.882810Z",
     "iopub.status.idle": "2024-06-02T16:50:19.430114Z",
     "shell.execute_reply": "2024-06-02T16:50:19.429016Z"
    },
    "papermill": {
     "duration": 0.556954,
     "end_time": "2024-06-02T16:50:19.432765",
     "exception": false,
     "start_time": "2024-06-02T16:50:18.875811",
     "status": "completed"
    },
    "tags": []
   },
   "outputs": [
    {
     "name": "stdout",
     "output_type": "stream",
     "text": [
      "Extra_columns_in_df ['Target']\n",
      "\n",
      "\n",
      "int64      30\n",
      "float64     7\n",
      "object      1\n",
      "Name: count, dtype: int64\n",
      "\n",
      "int64      30\n",
      "float64     7\n",
      "Name: count, dtype: int64\n",
      "\n",
      "\n",
      "We have to predict the: Index(['id', 'Target'], dtype='object')\n",
      "\n",
      "\n",
      "NUll values in the df:\n",
      "id                                                0\n",
      "Marital status                                    0\n",
      "Application mode                                  0\n",
      "Application order                                 0\n",
      "Course                                            0\n",
      "Daytime/evening attendance                        0\n",
      "Previous qualification                            0\n",
      "Previous qualification (grade)                    0\n",
      "Nacionality                                       0\n",
      "Mother's qualification                            0\n",
      "Father's qualification                            0\n",
      "Mother's occupation                               0\n",
      "Father's occupation                               0\n",
      "Admission grade                                   0\n",
      "Displaced                                         0\n",
      "Educational special needs                         0\n",
      "Debtor                                            0\n",
      "Tuition fees up to date                           0\n",
      "Gender                                            0\n",
      "Scholarship holder                                0\n",
      "Age at enrollment                                 0\n",
      "International                                     0\n",
      "Curricular units 1st sem (credited)               0\n",
      "Curricular units 1st sem (enrolled)               0\n",
      "Curricular units 1st sem (evaluations)            0\n",
      "Curricular units 1st sem (approved)               0\n",
      "Curricular units 1st sem (grade)                  0\n",
      "Curricular units 1st sem (without evaluations)    0\n",
      "Curricular units 2nd sem (credited)               0\n",
      "Curricular units 2nd sem (enrolled)               0\n",
      "Curricular units 2nd sem (evaluations)            0\n",
      "Curricular units 2nd sem (approved)               0\n",
      "Curricular units 2nd sem (grade)                  0\n",
      "Curricular units 2nd sem (without evaluations)    0\n",
      "Unemployment rate                                 0\n",
      "Inflation rate                                    0\n",
      "GDP                                               0\n",
      "Target                                            0\n",
      "dtype: int64\n",
      "\n",
      "Null values in the df_test:\n",
      "id                                                0\n",
      "Marital status                                    0\n",
      "Application mode                                  0\n",
      "Application order                                 0\n",
      "Course                                            0\n",
      "Daytime/evening attendance                        0\n",
      "Previous qualification                            0\n",
      "Previous qualification (grade)                    0\n",
      "Nacionality                                       0\n",
      "Mother's qualification                            0\n",
      "Father's qualification                            0\n",
      "Mother's occupation                               0\n",
      "Father's occupation                               0\n",
      "Admission grade                                   0\n",
      "Displaced                                         0\n",
      "Educational special needs                         0\n",
      "Debtor                                            0\n",
      "Tuition fees up to date                           0\n",
      "Gender                                            0\n",
      "Scholarship holder                                0\n",
      "Age at enrollment                                 0\n",
      "International                                     0\n",
      "Curricular units 1st sem (credited)               0\n",
      "Curricular units 1st sem (enrolled)               0\n",
      "Curricular units 1st sem (evaluations)            0\n",
      "Curricular units 1st sem (approved)               0\n",
      "Curricular units 1st sem (grade)                  0\n",
      "Curricular units 1st sem (without evaluations)    0\n",
      "Curricular units 2nd sem (credited)               0\n",
      "Curricular units 2nd sem (enrolled)               0\n",
      "Curricular units 2nd sem (evaluations)            0\n",
      "Curricular units 2nd sem (approved)               0\n",
      "Curricular units 2nd sem (grade)                  0\n",
      "Curricular units 2nd sem (without evaluations)    0\n",
      "Unemployment rate                                 0\n",
      "Inflation rate                                    0\n",
      "GDP                                               0\n",
      "dtype: int64\n"
     ]
    }
   ],
   "source": [
    "                                  '''SOMETHING UNIVERSAL CODE MADNESS (USING PANDAS)'''\n",
    "import pandas as pd    \n",
    "        \n",
    "def check_columns(df, df_test):\n",
    "    extra_columns_df = [col for col in df.columns if col not in df_test.columns]\n",
    "    extra_columns_df_test = [col for col in df_test.columns if col not in df.columns]\n",
    "    if extra_columns_df or extra_columns_df_test:\n",
    "        print(\"Extra_columns_in_df\",extra_columns_df)\n",
    "        '''print(extra_columns_df_test)'''\n",
    "    else:\n",
    "        return None\n",
    "\n",
    "\n",
    "def check_columns_dtype(df,df_test):\n",
    "    print(df.dtypes.value_counts())\n",
    "    print()\n",
    "    print(df_test.dtypes.value_counts())\n",
    "    print()\n",
    "\n",
    "\n",
    "def to_predict(df_sample):\n",
    "    print(\"We have to predict the:\",df_sample.columns)\n",
    "    \n",
    "    \n",
    "    \n",
    "def check_null_values(df,df_test):\n",
    "    print(\"NUll values in the df:\"), print(df.isnull().sum()),print()\n",
    "    print(\"Null values in the df_test:\"),print(df_test.isnull().sum())\n",
    "    \n",
    "\n",
    "                                         \n",
    "'''MAIN CDOE'''        \n",
    "\n",
    "df = pd.read_csv('/kaggle/input/playground-series-s4e6/train.csv')\n",
    "df_test = pd.read_csv( '/kaggle/input/playground-series-s4e6/test.csv')\n",
    "df_sample=pd.read_csv('/kaggle/input/playground-series-s4e6/sample_submission.csv')\n",
    "\n",
    "\n",
    "check_columns(df, df_test), print(),print()\n",
    "\n",
    "check_columns_dtype(df,df_test),print()\n",
    "\n",
    "to_predict(df_sample), print(), print()\n",
    "\n",
    "check_null_values(df,df_test)\n",
    "\n",
    "\n",
    "# WE CAN ALSO USE:- print(df.info())\n",
    "\n",
    "# SHAPE FUNCTION DOES'NT MATTER SO NO NEED TO CHECK THAT\"\n",
    "# x=df[\"FloodProbability\"]\n",
    "# print(type(x))  \"\"\"will retrun the dataset type not the datatype of the columns\"\"\"\n",
    "# print(df[\"FloodProbability\"].dtype)   '''IT WILL RETURN FLOAT64'''"
   ]
  },
  {
   "cell_type": "code",
   "execution_count": 4,
   "id": "e644f268",
   "metadata": {
    "execution": {
     "iopub.execute_input": "2024-06-02T16:50:19.447862Z",
     "iopub.status.busy": "2024-06-02T16:50:19.445608Z",
     "iopub.status.idle": "2024-06-02T16:50:19.457308Z",
     "shell.execute_reply": "2024-06-02T16:50:19.456202Z"
    },
    "papermill": {
     "duration": 0.021102,
     "end_time": "2024-06-02T16:50:19.459680",
     "exception": false,
     "start_time": "2024-06-02T16:50:19.438578",
     "status": "completed"
    },
    "tags": []
   },
   "outputs": [
    {
     "data": {
      "text/plain": [
       "<bound method IndexOpsMixin.nunique of 0        Graduate\n",
       "1         Dropout\n",
       "2         Dropout\n",
       "3        Enrolled\n",
       "4        Graduate\n",
       "           ...   \n",
       "76513    Graduate\n",
       "76514    Graduate\n",
       "76515    Enrolled\n",
       "76516     Dropout\n",
       "76517    Graduate\n",
       "Name: Target, Length: 76518, dtype: object>"
      ]
     },
     "execution_count": 4,
     "metadata": {},
     "output_type": "execute_result"
    }
   ],
   "source": [
    "target =df.Target\n",
    "target.nunique"
   ]
  },
  {
   "cell_type": "code",
   "execution_count": 5,
   "id": "0dc8eb7d",
   "metadata": {
    "execution": {
     "iopub.execute_input": "2024-06-02T16:50:19.473724Z",
     "iopub.status.busy": "2024-06-02T16:50:19.472613Z",
     "iopub.status.idle": "2024-06-02T16:50:19.509362Z",
     "shell.execute_reply": "2024-06-02T16:50:19.507857Z"
    },
    "papermill": {
     "duration": 0.046547,
     "end_time": "2024-06-02T16:50:19.512047",
     "exception": false,
     "start_time": "2024-06-02T16:50:19.465500",
     "status": "completed"
    },
    "tags": []
   },
   "outputs": [
    {
     "data": {
      "text/html": [
       "<div>\n",
       "<style scoped>\n",
       "    .dataframe tbody tr th:only-of-type {\n",
       "        vertical-align: middle;\n",
       "    }\n",
       "\n",
       "    .dataframe tbody tr th {\n",
       "        vertical-align: top;\n",
       "    }\n",
       "\n",
       "    .dataframe thead th {\n",
       "        text-align: right;\n",
       "    }\n",
       "</style>\n",
       "<table border=\"1\" class=\"dataframe\">\n",
       "  <thead>\n",
       "    <tr style=\"text-align: right;\">\n",
       "      <th></th>\n",
       "      <th>id</th>\n",
       "      <th>Marital status</th>\n",
       "      <th>Application mode</th>\n",
       "      <th>Application order</th>\n",
       "      <th>Course</th>\n",
       "      <th>Daytime/evening attendance</th>\n",
       "      <th>Previous qualification</th>\n",
       "      <th>Previous qualification (grade)</th>\n",
       "      <th>Nacionality</th>\n",
       "      <th>Mother's qualification</th>\n",
       "      <th>...</th>\n",
       "      <th>Curricular units 2nd sem (credited)</th>\n",
       "      <th>Curricular units 2nd sem (enrolled)</th>\n",
       "      <th>Curricular units 2nd sem (evaluations)</th>\n",
       "      <th>Curricular units 2nd sem (approved)</th>\n",
       "      <th>Curricular units 2nd sem (grade)</th>\n",
       "      <th>Curricular units 2nd sem (without evaluations)</th>\n",
       "      <th>Unemployment rate</th>\n",
       "      <th>Inflation rate</th>\n",
       "      <th>GDP</th>\n",
       "      <th>Target</th>\n",
       "    </tr>\n",
       "  </thead>\n",
       "  <tbody>\n",
       "    <tr>\n",
       "      <th>0</th>\n",
       "      <td>0</td>\n",
       "      <td>1</td>\n",
       "      <td>1</td>\n",
       "      <td>1</td>\n",
       "      <td>9238</td>\n",
       "      <td>1</td>\n",
       "      <td>1</td>\n",
       "      <td>126.0</td>\n",
       "      <td>1</td>\n",
       "      <td>1</td>\n",
       "      <td>...</td>\n",
       "      <td>0</td>\n",
       "      <td>6</td>\n",
       "      <td>7</td>\n",
       "      <td>6</td>\n",
       "      <td>12.428571</td>\n",
       "      <td>0</td>\n",
       "      <td>11.1</td>\n",
       "      <td>0.6</td>\n",
       "      <td>2.02</td>\n",
       "      <td>Graduate</td>\n",
       "    </tr>\n",
       "    <tr>\n",
       "      <th>1</th>\n",
       "      <td>1</td>\n",
       "      <td>1</td>\n",
       "      <td>17</td>\n",
       "      <td>1</td>\n",
       "      <td>9238</td>\n",
       "      <td>1</td>\n",
       "      <td>1</td>\n",
       "      <td>125.0</td>\n",
       "      <td>1</td>\n",
       "      <td>19</td>\n",
       "      <td>...</td>\n",
       "      <td>0</td>\n",
       "      <td>6</td>\n",
       "      <td>9</td>\n",
       "      <td>0</td>\n",
       "      <td>0.000000</td>\n",
       "      <td>0</td>\n",
       "      <td>11.1</td>\n",
       "      <td>0.6</td>\n",
       "      <td>2.02</td>\n",
       "      <td>Dropout</td>\n",
       "    </tr>\n",
       "    <tr>\n",
       "      <th>2</th>\n",
       "      <td>2</td>\n",
       "      <td>1</td>\n",
       "      <td>17</td>\n",
       "      <td>2</td>\n",
       "      <td>9254</td>\n",
       "      <td>1</td>\n",
       "      <td>1</td>\n",
       "      <td>137.0</td>\n",
       "      <td>1</td>\n",
       "      <td>3</td>\n",
       "      <td>...</td>\n",
       "      <td>0</td>\n",
       "      <td>6</td>\n",
       "      <td>0</td>\n",
       "      <td>0</td>\n",
       "      <td>0.000000</td>\n",
       "      <td>0</td>\n",
       "      <td>16.2</td>\n",
       "      <td>0.3</td>\n",
       "      <td>-0.92</td>\n",
       "      <td>Dropout</td>\n",
       "    </tr>\n",
       "    <tr>\n",
       "      <th>3</th>\n",
       "      <td>3</td>\n",
       "      <td>1</td>\n",
       "      <td>1</td>\n",
       "      <td>3</td>\n",
       "      <td>9500</td>\n",
       "      <td>1</td>\n",
       "      <td>1</td>\n",
       "      <td>131.0</td>\n",
       "      <td>1</td>\n",
       "      <td>19</td>\n",
       "      <td>...</td>\n",
       "      <td>0</td>\n",
       "      <td>8</td>\n",
       "      <td>11</td>\n",
       "      <td>7</td>\n",
       "      <td>12.820000</td>\n",
       "      <td>0</td>\n",
       "      <td>11.1</td>\n",
       "      <td>0.6</td>\n",
       "      <td>2.02</td>\n",
       "      <td>Enrolled</td>\n",
       "    </tr>\n",
       "    <tr>\n",
       "      <th>4</th>\n",
       "      <td>4</td>\n",
       "      <td>1</td>\n",
       "      <td>1</td>\n",
       "      <td>2</td>\n",
       "      <td>9500</td>\n",
       "      <td>1</td>\n",
       "      <td>1</td>\n",
       "      <td>132.0</td>\n",
       "      <td>1</td>\n",
       "      <td>19</td>\n",
       "      <td>...</td>\n",
       "      <td>0</td>\n",
       "      <td>7</td>\n",
       "      <td>12</td>\n",
       "      <td>6</td>\n",
       "      <td>12.933333</td>\n",
       "      <td>0</td>\n",
       "      <td>7.6</td>\n",
       "      <td>2.6</td>\n",
       "      <td>0.32</td>\n",
       "      <td>Graduate</td>\n",
       "    </tr>\n",
       "  </tbody>\n",
       "</table>\n",
       "<p>5 rows × 38 columns</p>\n",
       "</div>"
      ],
      "text/plain": [
       "   id  Marital status  Application mode  Application order  Course  \\\n",
       "0   0               1                 1                  1    9238   \n",
       "1   1               1                17                  1    9238   \n",
       "2   2               1                17                  2    9254   \n",
       "3   3               1                 1                  3    9500   \n",
       "4   4               1                 1                  2    9500   \n",
       "\n",
       "   Daytime/evening attendance  Previous qualification  \\\n",
       "0                           1                       1   \n",
       "1                           1                       1   \n",
       "2                           1                       1   \n",
       "3                           1                       1   \n",
       "4                           1                       1   \n",
       "\n",
       "   Previous qualification (grade)  Nacionality  Mother's qualification  ...  \\\n",
       "0                           126.0            1                       1  ...   \n",
       "1                           125.0            1                      19  ...   \n",
       "2                           137.0            1                       3  ...   \n",
       "3                           131.0            1                      19  ...   \n",
       "4                           132.0            1                      19  ...   \n",
       "\n",
       "   Curricular units 2nd sem (credited)  Curricular units 2nd sem (enrolled)  \\\n",
       "0                                    0                                    6   \n",
       "1                                    0                                    6   \n",
       "2                                    0                                    6   \n",
       "3                                    0                                    8   \n",
       "4                                    0                                    7   \n",
       "\n",
       "   Curricular units 2nd sem (evaluations)  \\\n",
       "0                                       7   \n",
       "1                                       9   \n",
       "2                                       0   \n",
       "3                                      11   \n",
       "4                                      12   \n",
       "\n",
       "   Curricular units 2nd sem (approved)  Curricular units 2nd sem (grade)  \\\n",
       "0                                    6                         12.428571   \n",
       "1                                    0                          0.000000   \n",
       "2                                    0                          0.000000   \n",
       "3                                    7                         12.820000   \n",
       "4                                    6                         12.933333   \n",
       "\n",
       "   Curricular units 2nd sem (without evaluations)  Unemployment rate  \\\n",
       "0                                               0               11.1   \n",
       "1                                               0               11.1   \n",
       "2                                               0               16.2   \n",
       "3                                               0               11.1   \n",
       "4                                               0                7.6   \n",
       "\n",
       "   Inflation rate   GDP    Target  \n",
       "0             0.6  2.02  Graduate  \n",
       "1             0.6  2.02   Dropout  \n",
       "2             0.3 -0.92   Dropout  \n",
       "3             0.6  2.02  Enrolled  \n",
       "4             2.6  0.32  Graduate  \n",
       "\n",
       "[5 rows x 38 columns]"
      ]
     },
     "execution_count": 5,
     "metadata": {},
     "output_type": "execute_result"
    }
   ],
   "source": [
    "df.head()"
   ]
  },
  {
   "cell_type": "code",
   "execution_count": 6,
   "id": "6869746b",
   "metadata": {
    "execution": {
     "iopub.execute_input": "2024-06-02T16:50:19.526955Z",
     "iopub.status.busy": "2024-06-02T16:50:19.526517Z",
     "iopub.status.idle": "2024-06-02T16:50:19.535726Z",
     "shell.execute_reply": "2024-06-02T16:50:19.534521Z"
    },
    "papermill": {
     "duration": 0.019938,
     "end_time": "2024-06-02T16:50:19.538317",
     "exception": false,
     "start_time": "2024-06-02T16:50:19.518379",
     "status": "completed"
    },
    "tags": []
   },
   "outputs": [
    {
     "data": {
      "text/plain": [
       "132.37876578060062"
      ]
     },
     "execution_count": 6,
     "metadata": {},
     "output_type": "execute_result"
    }
   ],
   "source": [
    "Pq= df['Previous qualification (grade)']\n",
    "Pq.mean()\n",
    "# df.dropna(inplace=True) , inplace=True is to save the data with dropped values"
   ]
  },
  {
   "cell_type": "code",
   "execution_count": 7,
   "id": "552d83aa",
   "metadata": {
    "execution": {
     "iopub.execute_input": "2024-06-02T16:50:19.553770Z",
     "iopub.status.busy": "2024-06-02T16:50:19.553136Z",
     "iopub.status.idle": "2024-06-02T16:50:20.610558Z",
     "shell.execute_reply": "2024-06-02T16:50:20.609196Z"
    },
    "papermill": {
     "duration": 1.068428,
     "end_time": "2024-06-02T16:50:20.613303",
     "exception": false,
     "start_time": "2024-06-02T16:50:19.544875",
     "status": "completed"
    },
    "tags": []
   },
   "outputs": [
    {
     "data": {
      "image/png": "[encoded data removed]",
      "text/plain": [
       "<Figure size 640x480 with 1 Axes>"
      ]
     },
     "metadata": {},
     "output_type": "display_data"
    }
   ],
   "source": [
    "x=df['Application order']\n",
    "y=df['Previous qualification']\n",
    "\n",
    "plt.plot(x, y)\n",
    "plt.title(\"Linear graph\",fontsize=25, color=\"green\")\n",
    "plt.show()"
   ]
  },
  {
   "cell_type": "code",
   "execution_count": 8,
   "id": "d52c3177",
   "metadata": {
    "execution": {
     "iopub.execute_input": "2024-06-02T16:50:20.630762Z",
     "iopub.status.busy": "2024-06-02T16:50:20.630047Z",
     "iopub.status.idle": "2024-06-02T16:50:20.646499Z",
     "shell.execute_reply": "2024-06-02T16:50:20.645622Z"
    },
    "papermill": {
     "duration": 0.028682,
     "end_time": "2024-06-02T16:50:20.649616",
     "exception": false,
     "start_time": "2024-06-02T16:50:20.620934",
     "status": "completed"
    },
    "tags": []
   },
   "outputs": [],
   "source": [
    "X= df.drop([\"Target\"],axis=1)\n",
    "y=df[\"Target\"]"
   ]
  },
  {
   "cell_type": "code",
   "execution_count": 9,
   "id": "7375eee4",
   "metadata": {
    "execution": {
     "iopub.execute_input": "2024-06-02T16:50:20.666523Z",
     "iopub.status.busy": "2024-06-02T16:50:20.666121Z",
     "iopub.status.idle": "2024-06-02T16:50:54.365002Z",
     "shell.execute_reply": "2024-06-02T16:50:54.364058Z"
    },
    "papermill": {
     "duration": 33.710539,
     "end_time": "2024-06-02T16:50:54.367794",
     "exception": false,
     "start_time": "2024-06-02T16:50:20.657255",
     "status": "completed"
    },
    "tags": []
   },
   "outputs": [],
   "source": [
    "from sklearn.model_selection import train_test_split\n",
    "from sklearn.neighbors import KNeighborsClassifier\n",
    "from sklearn.preprocessing import StandardScaler\n",
    "from sklearn.metrics import classification_report, accuracy_score, confusion_matrix\n",
    "\n",
    "\n",
    "\n",
    "# Separate features and target variable from training and testing datasets\n",
    "X = df.drop([\"Target\"], axis=1)\n",
    "y= df[\"Target\"]\n",
    "# X_test = df_test\n",
    "# y_test = df_test[\"Target\"]\n",
    "\n",
    "# Standardize the features (KNN performance improves with standardized data)\n",
    "# scaler = StandardScaler()\n",
    "\n",
    "# Fit the scaler on the training data and transform both training and test data\n",
    "# X_train_scaled = scaler.fit_transform(X_train)\n",
    "# X_test_scaled = scaler.transform(X_test)\n",
    "\n",
    "# Initialize the KNN classifier with k=5 (you can adjust k as needed)\n",
    "knn = KNeighborsClassifier(n_neighbors=5)\n",
    "\n",
    "# Train the classifier\n",
    "knn.fit(X,y)\n",
    "\n",
    "# Make predictions on the test set\n",
    "y_pred = knn.predict(df_test)\n",
    "\n",
    "# Evaluate the model\n",
    "# print(\"Accuracy:\", accuracy_score(y_test, y_pred))\n",
    "# print(\"Confusion Matrix:\\n\", confusion_matrix(y_test, y_pred))\n",
    "# print(\"Classification Report:\\n\", classification_report(y_test, y_pred))"
   ]
  },
  {
   "cell_type": "code",
   "execution_count": 10,
   "id": "c27f78d4",
   "metadata": {
    "execution": {
     "iopub.execute_input": "2024-06-02T16:50:54.386027Z",
     "iopub.status.busy": "2024-06-02T16:50:54.384616Z",
     "iopub.status.idle": "2024-06-02T16:51:25.881596Z",
     "shell.execute_reply": "2024-06-02T16:51:25.880059Z"
    },
    "papermill": {
     "duration": 31.509305,
     "end_time": "2024-06-02T16:51:25.884833",
     "exception": false,
     "start_time": "2024-06-02T16:50:54.375528",
     "status": "completed"
    },
    "tags": []
   },
   "outputs": [],
   "source": [
    "test=df_test\n",
    "test_ids=df_test[\"id\"]\n",
    "y_pred=knn.predict(test)"
   ]
  },
  {
   "cell_type": "code",
   "execution_count": 11,
   "id": "0228ee8e",
   "metadata": {
    "execution": {
     "iopub.execute_input": "2024-06-02T16:51:25.902969Z",
     "iopub.status.busy": "2024-06-02T16:51:25.902558Z",
     "iopub.status.idle": "2024-06-02T16:51:26.002428Z",
     "shell.execute_reply": "2024-06-02T16:51:26.001095Z"
    },
    "papermill": {
     "duration": 0.112659,
     "end_time": "2024-06-02T16:51:26.005773",
     "exception": false,
     "start_time": "2024-06-02T16:51:25.893114",
     "status": "completed"
    },
    "tags": []
   },
   "outputs": [],
   "source": [
    "results = pd.DataFrame({'id':test_ids,'Target':y_pred})\n",
    "results.to_csv('output.csv',index=False)"
   ]
  },
  {
   "cell_type": "code",
   "execution_count": 12,
   "id": "0829263c",
   "metadata": {
    "execution": {
     "iopub.execute_input": "2024-06-02T16:51:26.023592Z",
     "iopub.status.busy": "2024-06-02T16:51:26.023135Z",
     "iopub.status.idle": "2024-06-02T16:51:26.031070Z",
     "shell.execute_reply": "2024-06-02T16:51:26.029546Z"
    },
    "papermill": {
     "duration": 0.020385,
     "end_time": "2024-06-02T16:51:26.034222",
     "exception": false,
     "start_time": "2024-06-02T16:51:26.013837",
     "status": "completed"
    },
    "tags": []
   },
   "outputs": [],
   "source": [
    "# df_sample.head()"
   ]
  },
  {
   "cell_type": "code",
   "execution_count": 13,
   "id": "9615eacb",
   "metadata": {
    "execution": {
     "iopub.execute_input": "2024-06-02T16:51:26.052853Z",
     "iopub.status.busy": "2024-06-02T16:51:26.052169Z",
     "iopub.status.idle": "2024-06-02T16:51:26.055931Z",
     "shell.execute_reply": "2024-06-02T16:51:26.055166Z"
    },
    "papermill": {
     "duration": 0.015926,
     "end_time": "2024-06-02T16:51:26.058194",
     "exception": false,
     "start_time": "2024-06-02T16:51:26.042268",
     "status": "completed"
    },
    "tags": []
   },
   "outputs": [],
   "source": [
    "# df_output=pd.read_csv('/kaggle/working/output.csv')\n",
    "# df_output.head()"
   ]
  },
  {
   "cell_type": "code",
   "execution_count": null,
   "id": "188a04c5",
   "metadata": {
    "papermill": {
     "duration": 0.007565,
     "end_time": "2024-06-02T16:51:26.073715",
     "exception": false,
     "start_time": "2024-06-02T16:51:26.066150",
     "status": "completed"
    },
    "tags": []
   },
   "outputs": [],
   "source": []
  }
 ],
 "metadata": {
  "kaggle": {
   "accelerator": "none",
   "dataSources": [
    {
     "databundleVersionId": 8710574,
     "sourceId": 73290,
     "sourceType": "competition"
    }
   ],
   "dockerImageVersionId": 30715,
   "isGpuEnabled": false,
   "isInternetEnabled": true,
   "language": "python",
   "sourceType": "notebook"
  },
  "kernelspec": {
   "display_name": "Python 3",
   "language": "python",
   "name": "python3"
  },
  "language_info": {
   "codemirror_mode": {
    "name": "ipython",
    "version": 3
   },
   "file_extension": ".py",
   "mimetype": "text/x-python",
   "name": "python",
   "nbconvert_exporter": "python",
   "pygments_lexer": "ipython3",
   "version": "3.10.13"
  },
  "papermill": {
   "default_parameters": {},
   "duration": 73.077762,
   "end_time": "2024-06-02T16:51:26.704152",
   "environment_variables": {},
   "exception": null,
   "input_path": "__notebook__.ipynb",
   "output_path": "__notebook__.ipynb",
   "parameters": {},
   "start_time": "2024-06-02T16:50:13.626390",
   "version": "2.5.0"
  }
 },
 "nbformat": 4,
 "nbformat_minor": 5
}
